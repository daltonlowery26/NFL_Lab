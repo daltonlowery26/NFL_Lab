{
 "cells": [
  {
   "cell_type": "markdown",
   "id": "7c901a66",
   "metadata": {},
   "source": [
    "### Predict DJ Moore Movement"
   ]
  },
  {
   "cell_type": "markdown",
   "id": "82524e6b",
   "metadata": {
    "vscode": {
     "languageId": "raw"
    }
   },
   "source": [
    "CNN to create a spatial repersentation of the context data\n",
    "\n",
    "Inject Context Embedding & Player Embeddings, early fusion for the player context \n",
    "and before the fully connected layer for the gloabl context. Use the CNN as a form of encoder, use a transpose CNN to find loss function"
   ]
  },
  {
   "cell_type": "code",
   "execution_count": 13,
   "id": "882c941d",
   "metadata": {},
   "outputs": [],
   "source": [
    "import pandas as pd\n",
    "import numpy as np\n",
    "import os\n",
    "\n",
    "os.chdir('C:/Users/dalto/OneDrive/Pictures/Documents/Emory/NFL Lab/data')"
   ]
  },
  {
   "cell_type": "markdown",
   "id": "1842b90f",
   "metadata": {},
   "source": [
    "import, normalize for direction"
   ]
  },
  {
   "cell_type": "code",
   "execution_count": 14,
   "id": "6ac35654",
   "metadata": {},
   "outputs": [],
   "source": [
    "df = pd.read_csv('djM_games.csv')\n",
    "df['play_id_n'] = df.groupby(['play_id', 'game_id']).ngroup()"
   ]
  },
  {
   "cell_type": "markdown",
   "id": "eb3b0c43",
   "metadata": {},
   "source": [
    "#### 2d grid for cnn"
   ]
  },
  {
   "cell_type": "code",
   "execution_count": 15,
   "id": "c7bdcf7e",
   "metadata": {},
   "outputs": [],
   "source": [
    "def pixel_map(player_data, grid_width=121, grid_height=55, sigma=.8):\n",
    "    \n",
    "    # three channels, one for offense, one for defense, one for ball location\n",
    "    pixel_map = np.zeros((3, grid_height, grid_width), dtype=np.float32)\n",
    "    \n",
    "    x_vals = player_data['x'].values\n",
    "    y_vals = player_data['y'].values\n",
    "    \n",
    "    for i, (x, y) in enumerate(zip(x_vals, y_vals)):\n",
    "        x_min = max(0, int(np.floor(x - 2*sigma)))\n",
    "        x_max = min(grid_width, int(np.ceil(x + 2*sigma)) + 1)\n",
    "        y_min = max(0, int(np.floor(y - 2*sigma)))\n",
    "        y_max = min(grid_height, int(np.ceil(y + 2*sigma)) + 1)\n",
    "        \n",
    "        for xi in range(x_min, x_max):\n",
    "            for yi in range(y_min, y_max):\n",
    "                dist_sq = (xi - x)**2 + (yi - y)**2\n",
    "                weight = np.exp(-dist_sq / (2 * sigma**2))\n",
    "                \n",
    "                if player_data.iloc[i]['player_side'] == 'Offense':\n",
    "                    pixel_map[0, yi, xi] += weight\n",
    "                elif player_data.iloc[i]['player_side'] == 'Defense':\n",
    "                    pixel_map[1, yi, xi] += weight\n",
    "    \n",
    "    ball_x = player_data['ball_land_x'].iloc[0]\n",
    "    ball_y = player_data['ball_land_y'].iloc[0]\n",
    "    \n",
    "    ball_x_min = max(0, int(np.floor(ball_x - 2*sigma)))\n",
    "    ball_x_max = min(grid_width, int(np.ceil(ball_x + 2*sigma)) + 1)\n",
    "    ball_y_min = max(0, int(np.floor(ball_y - 2*sigma)))\n",
    "    ball_y_max = min(grid_height, int(np.ceil(ball_y + 2*sigma)) + 1)\n",
    "    \n",
    "    for xi in range(ball_x_min, ball_x_max):\n",
    "        for yi in range(ball_y_min, ball_y_max):\n",
    "            dist_sq = (xi - ball_x)**2 + (yi - ball_y)**2\n",
    "            weight = np.exp(-dist_sq / (2 * sigma**2))\n",
    "            pixel_map[2, yi, xi] += weight\n",
    "    \n",
    "    return pixel_map"
   ]
  },
  {
   "cell_type": "markdown",
   "id": "5fdb8c7f",
   "metadata": {},
   "source": [
    "testing one play"
   ]
  },
  {
   "cell_type": "code",
   "execution_count": 16,
   "id": "a45368c4",
   "metadata": {},
   "outputs": [
    {
     "name": "stderr",
     "output_type": "stream",
     "text": [
      "C:\\Users\\dalto\\AppData\\Local\\Temp\\ipykernel_28240\\405905309.py:2: FutureWarning: DataFrameGroupBy.apply operated on the grouping columns. This behavior is deprecated, and in a future version of pandas the grouping columns will be excluded from the operation. Either pass `include_groups=False` to exclude the groupings or explicitly select the grouping columns after groupby to silence this warning.\n",
      "  df_grids_t= df_play_id.groupby(['play_id_n','frame_id']).apply(lambda x: pd.Series({'grid': pixel_map(x)}))\n"
     ]
    }
   ],
   "source": [
    "df_play_id = df[df['play_id_n'] == 102]\n",
    "df_grids_t= df_play_id.groupby(['play_id_n','frame_id']).apply(lambda x: pd.Series({'grid': pixel_map(x)}))"
   ]
  },
  {
   "cell_type": "markdown",
   "id": "84373868",
   "metadata": {},
   "source": [
    "grid for all plays"
   ]
  },
  {
   "cell_type": "code",
   "execution_count": 18,
   "id": "0fbb8477",
   "metadata": {},
   "outputs": [
    {
     "name": "stderr",
     "output_type": "stream",
     "text": [
      "C:\\Users\\dalto\\AppData\\Local\\Temp\\ipykernel_28240\\1580485928.py:1: FutureWarning: DataFrameGroupBy.apply operated on the grouping columns. This behavior is deprecated, and in a future version of pandas the grouping columns will be excluded from the operation. Either pass `include_groups=False` to exclude the groupings or explicitly select the grouping columns after groupby to silence this warning.\n",
      "  df_grids = df.groupby(['play_id_n','frame_id']).apply(lambda x: pd.Series({'grid': pixel_map(x)}))\n"
     ]
    }
   ],
   "source": [
    "df_grids = df.groupby(['play_id_n','frame_id']).apply(lambda x: pd.Series({'grid': pixel_map(x)}))"
   ]
  },
  {
   "cell_type": "code",
   "execution_count": 19,
   "id": "9189e025",
   "metadata": {},
   "outputs": [],
   "source": [
    "df_grids = df_grids.reset_index()\n",
    "df_grids = df_grids.sort_values(['play_id_n', 'frame_id'])"
   ]
  },
  {
   "cell_type": "markdown",
   "id": "8fe42dca",
   "metadata": {},
   "source": [
    "plot cords"
   ]
  },
  {
   "cell_type": "code",
   "execution_count": 20,
   "id": "35e0b800",
   "metadata": {},
   "outputs": [
    {
     "data": {
      "image/png": "[encoded data removed]",
      "text/plain": [
       "<Figure size 1200x600 with 1 Axes>"
      ]
     },
     "metadata": {},
     "output_type": "display_data"
    }
   ],
   "source": [
    "import matplotlib.pyplot as plt\n",
    "\n",
    "sample_grid = df_grids_t['grid'].iloc[40]\n",
    "\n",
    "combined = np.zeros((55, 121, 3))\n",
    "combined[:, :, 0] = sample_grid[0] \n",
    "combined[:, :, 1] = sample_grid[1]  \n",
    "combined[:, :, 2] = sample_grid[2]  \n",
    "\n",
    "plt.figure(figsize=(12, 6), facecolor='white')\n",
    "plt.imshow(combined, origin='lower')\n",
    "plt.title('Player Positions: Red=Offense, Green=Defense, Blue=Ball Landing')\n",
    "plt.xlabel('X (yards)')\n",
    "plt.ylabel('Y (yards)')\n",
    "plt.tight_layout()\n",
    "plt.show()\n"
   ]
  },
  {
   "cell_type": "code",
   "execution_count": 21,
   "id": "c3e99f11",
   "metadata": {},
   "outputs": [],
   "source": [
    "df_grids.to_csv('encoded_location.csv')"
   ]
  },
  {
   "cell_type": "markdown",
   "id": "d47c3875",
   "metadata": {},
   "source": [
    "#### CNN, Transformer"
   ]
  },
  {
   "cell_type": "markdown",
   "id": "adae6a33",
   "metadata": {},
   "source": [
    "encoder, decoder, reconstruction loss"
   ]
  },
  {
   "cell_type": "code",
   "execution_count": null,
   "id": "1cc55cbb",
   "metadata": {},
   "outputs": [],
   "source": [
    "import torch\n",
    "import torch.nn as nn "
   ]
  },
  {
   "cell_type": "markdown",
   "id": "7c6635c9",
   "metadata": {},
   "source": [
    "cnn to downsample heatmap"
   ]
  },
  {
   "cell_type": "code",
   "execution_count": null,
   "id": "e8d6455d",
   "metadata": {},
   "outputs": [],
   "source": [
    "class cnn_downsample(nn.Module):\n",
    "    def __init__(self):\n",
    "        super().__init__()\n",
    "        \n",
    "        self.heatmap_encoder = nn.Sequential(\n",
    "            nn.Conv2d(in_channels=3, out_channels=32, kernel_size=3, stride = 2, padding=1),\n",
    "            nn.BatchNorm2d(32), # prevent exploding gradients\n",
    "            nn.LeakyReLU(inplace=True), # preforms better on average idk if itll make a difference in this application\n",
    "\n",
    "            nn.Conv2d(in_channels=32, out_channels=64, kernel_size=3, stride = 2, padding=1),\n",
    "            nn.BatchNorm2d(64),\n",
    "            nn.LeakyReLU(inplace=True),\n",
    "\n",
    "            nn.Conv2d(in_channels=64, out_channels=128, kernel_size=3, stride = 2, padding=1),\n",
    "            nn.BatchNorm2d(128),\n",
    "            nn.LeakyReLU(inplace=True)\n",
    "        )\n",
    "    \n",
    "    def forward(self, x):\n",
    "        x = self.heatmap_encoder(x)\n",
    "        return x\n",
    "    "
   ]
  },
  {
   "cell_type": "markdown",
   "id": "6f884d25",
   "metadata": {},
   "source": [
    "transformer encoder"
   ]
  },
  {
   "cell_type": "code",
   "execution_count": null,
   "id": "1b4da6b9",
   "metadata": {},
   "outputs": [],
   "source": [
    "class encode_transformer(nn.Module):\n",
    "    def __init__(self):\n",
    "        super().__init__() # parent class\n",
    "\n",
    "    def forward(self, x):\n",
    "        \n",
    "        return x\n"
   ]
  }
 ],
 "metadata": {
  "kernelspec": {
   "display_name": "nflLab",
   "language": "python",
   "name": "python3"
  },
  "language_info": {
   "codemirror_mode": {
    "name": "ipython",
    "version": 3
   },
   "file_extension": ".py",
   "mimetype": "text/x-python",
   "name": "python",
   "nbconvert_exporter": "python",
   "pygments_lexer": "ipython3",
   "version": "3.9.23"
  }
 },
 "nbformat": 4,
 "nbformat_minor": 5
}
