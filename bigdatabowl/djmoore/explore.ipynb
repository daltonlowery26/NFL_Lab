{
 "cells": [
  {
   "cell_type": "markdown",
   "id": "f8b59b29",
   "metadata": {},
   "source": [
    "### dj moore pred"
   ]
  },
  {
   "cell_type": "code",
   "execution_count": 1,
   "id": "6978a532",
   "metadata": {},
   "outputs": [],
   "source": [
    "import pandas as pd \n",
    "import os\n",
    "os.chdir('C:/Users/dalto/OneDrive/Pictures/Documents/Emory/NFL Lab/data')"
   ]
  },
  {
   "cell_type": "code",
   "execution_count": 2,
   "id": "067e4c22",
   "metadata": {},
   "outputs": [],
   "source": [
    "df = pd.read_csv('2023_tracking.csv')"
   ]
  },
  {
   "cell_type": "code",
   "execution_count": 3,
   "id": "25b379c9",
   "metadata": {},
   "outputs": [],
   "source": [
    "dj = df[df['player_name'] == 'DJ Moore']\n",
    "dj_games = dj['play_id_n'].unique()\n",
    "dj_games_csv = df[df['play_id_n'].isin(dj_games)]"
   ]
  },
  {
   "cell_type": "code",
   "execution_count": 4,
   "id": "588cbe13",
   "metadata": {},
   "outputs": [],
   "source": [
    "dj_games_csv.to_csv(\"djM_games.csv\")"
   ]
  }
 ],
 "metadata": {
  "kernelspec": {
   "display_name": "nflLab",
   "language": "python",
   "name": "python3"
  },
  "language_info": {
   "codemirror_mode": {
    "name": "ipython",
    "version": 3
   },
   "file_extension": ".py",
   "mimetype": "text/x-python",
   "name": "python",
   "nbconvert_exporter": "python",
   "pygments_lexer": "ipython3",
   "version": "3.9.23"
  }
 },
 "nbformat": 4,
 "nbformat_minor": 5
}
