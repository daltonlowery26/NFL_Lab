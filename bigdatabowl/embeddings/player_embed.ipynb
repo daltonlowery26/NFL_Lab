{
 "cells": [
  {
   "cell_type": "markdown",
   "id": "44ab43ee",
   "metadata": {},
   "source": [
    "## embed player skill"
   ]
  },
  {
   "cell_type": "code",
   "execution_count": 1,
   "id": "a4e90f81",
   "metadata": {},
   "outputs": [],
   "source": [
    "import pandas as pd \n",
    "import numpy as np\n",
    "import os\n",
    "import torch\n",
    "import torch.nn as nn\n",
    "from torch.utils.data import TensorDataset, DataLoader\n",
    "from sklearn.linear_model import LinearRegression\n",
    "from sklearn.metrics import r2_score\n",
    "from sklearn.manifold import TSNE\n",
    "import matplotlib.pyplot as plt\n",
    "import random\n",
    "\n",
    "os.chdir('C:/Users/dalto/OneDrive/Pictures/Documents/Emory/NFL Lab/')"
   ]
  },
  {
   "cell_type": "code",
   "execution_count": 2,
   "id": "8ac701f3",
   "metadata": {},
   "outputs": [],
   "source": [
    "df = pd.read_csv('data/input_2023_w07.csv')\n",
    "df_2 = pd.read_csv('data/output_2023_w07.csv')"
   ]
  },
  {
   "cell_type": "markdown",
   "id": "caa25f21",
   "metadata": {},
   "source": [
    "#### feature extraction"
   ]
  },
  {
   "cell_type": "code",
   "execution_count": 3,
   "id": "2bf078ca",
   "metadata": {},
   "outputs": [],
   "source": [
    "# need to change his position as he was the only one labeled under S\n",
    "df.loc[df['player_name'] == 'Myles Bryant', 'player_position'] = 'FS'"
   ]
  },
  {
   "cell_type": "markdown",
   "id": "62f19176",
   "metadata": {},
   "source": [
    "average time to 90th / 50th percentile speed, 90th percentile orentation change, 90th percentile acceleration, change in dir, decell"
   ]
  },
  {
   "cell_type": "code",
   "execution_count": 4,
   "id": "10dc2219",
   "metadata": {},
   "outputs": [],
   "source": [
    "df_bio = df[['nfl_id', 'player_name', 'player_weight', 'player_height', 'player_position']].drop_duplicates()"
   ]
  },
  {
   "cell_type": "code",
   "execution_count": 5,
   "id": "2cd0ea44",
   "metadata": {},
   "outputs": [],
   "source": [
    "df['change_in_dir'] = df.groupby(['nfl_id', 'play_id'])['dir'].diff(1)\n",
    "df['change_in_o'] = df.groupby(['nfl_id', 'play_id'])['o'].diff(1)\n",
    "df['change_in_dir_3'] = df.groupby(['nfl_id', 'play_id'])['change_in_dir'].rolling(window=3, min_periods=2).mean().reset_index(level=[0,1], drop=True)\n",
    "df['change_in_o_3'] = df.groupby(['nfl_id', 'play_id'])['change_in_o'].rolling(window=3, min_periods=2).mean().reset_index(level=[0,1], drop=True)"
   ]
  },
  {
   "cell_type": "code",
   "execution_count": 6,
   "id": "a1c87503",
   "metadata": {},
   "outputs": [],
   "source": [
    "df['change_in_dir_3'] = abs(df['change_in_dir_3'])\n",
    "df['change_in_o_3'] = abs(df['change_in_o_3'])\n",
    "df['change_in_dir'] = abs(df['change_in_dir'])\n",
    "df['change_in_o'] = abs(df['change_in_o'])"
   ]
  },
  {
   "cell_type": "code",
   "execution_count": 7,
   "id": "4099ca4b",
   "metadata": {},
   "outputs": [],
   "source": [
    "df_count = df.groupby('nfl_id')['play_id'].nunique().reset_index().rename(columns={'play_id':'play_count'})\n",
    "df_bio = df_bio.merge(df_count, on=['nfl_id'], how='left')"
   ]
  },
  {
   "cell_type": "markdown",
   "id": "d971dc91",
   "metadata": {},
   "source": [
    "position avg normalized for weight"
   ]
  },
  {
   "cell_type": "code",
   "execution_count": 8,
   "id": "410607f8",
   "metadata": {},
   "outputs": [],
   "source": [
    "df_avgs = df.dropna()\n",
    "df_avgs = df_avgs[(df_avgs['change_in_dir_3'] < 40)]\n",
    "df_avgs = df_avgs[(df_avgs['change_in_o_3'] < 40)]"
   ]
  },
  {
   "cell_type": "code",
   "execution_count": 9,
   "id": "5ac2405e",
   "metadata": {},
   "outputs": [],
   "source": [
    "features = df_bio[['player_position', 'player_weight']]\n",
    "features = pd.get_dummies(features, columns=['player_position'])\n",
    "\n",
    "agg = df_avgs.groupby('nfl_id').agg({\n",
    "    's': [lambda x: np.percentile(x, 90), lambda x: np.percentile(x, 50)],\n",
    "    'change_in_dir_3': [lambda x: np.percentile(x.dropna(), 90), lambda x: np.percentile(x.dropna(), 50)],\n",
    "    'change_in_o_3': [lambda x: np.percentile(x.dropna(), 90), lambda x: np.percentile(x.dropna(), 50)],\n",
    "    'a': [lambda x: np.percentile(x, 90), lambda x: np.percentile(x, 50)]\n",
    "})\n",
    "agg.columns = ['s_90', 's_50', 'dir_90', 'dir_50', 'o_90', 'o_50', 'a_90', 'a_50']\n",
    "agg = agg.reset_index()\n",
    "\n",
    "\n",
    "data = df_bio.merge(agg, on='nfl_id')"
   ]
  },
  {
   "cell_type": "code",
   "execution_count": 10,
   "id": "a3b5449d",
   "metadata": {},
   "outputs": [
    {
     "name": "stdout",
     "output_type": "stream",
     "text": [
      "0.2525084969254503\n"
     ]
    }
   ],
   "source": [
    "target_cols = ['s_90', 's_50', 'dir_90', 'dir_50', 'o_90', 'o_50', 'a_90', 'a_50']\n",
    "models = {}\n",
    "predictions = {}\n",
    "\n",
    "for target in target_cols:\n",
    "    X = features.values\n",
    "    y = data[target].values\n",
    "    model = LinearRegression()\n",
    "    model.fit(X, y)\n",
    "    models[target] = model\n",
    "    predictions[target] = model.predict(X)\n",
    "\n",
    "\n",
    "for target in target_cols:\n",
    "    data[f'pred_{target}'] = predictions[target]\n",
    "\n",
    "print(r2_score(data['o_50'], data['pred_o_50']))"
   ]
  },
  {
   "cell_type": "markdown",
   "id": "ceff834e",
   "metadata": {},
   "source": [
    "regressed mean"
   ]
  },
  {
   "cell_type": "code",
   "execution_count": 11,
   "id": "200f1429",
   "metadata": {},
   "outputs": [],
   "source": [
    "def regressed_means(df, pos, mean_col):\n",
    "\n",
    "    pos_df = df[df['player_position'] == pos]\n",
    "    var_of_means = np.var(pos_df[mean_col])\n",
    "    avg_n = np.mean(pos_df['play_count'])\n",
    "\n",
    "    sigma_sq = var_of_means * 0.5\n",
    "    tau_sq = max(0, var_of_means - (sigma_sq / avg_n))\n",
    "\n",
    "    df.loc[df['player_position'] == pos, f'shrink_b{mean_col}'] = (sigma_sq / df.loc[df['player_position'] == pos, 'play_count']) / ((sigma_sq / df.loc[df['player_position'] == pos, 'play_count']) + tau_sq)\n",
    "    \n",
    "    df.loc[df['player_position'] == pos, f'reg_mean{mean_col}'] = (df.loc[df['player_position'] == pos, f'shrink_b{mean_col}'] * df.loc[df['player_position'] == pos, f'pred_{mean_col}']) + \\\n",
    "        ((1 - df.loc[df['player_position'] == pos, f'shrink_b{mean_col}']) * df.loc[df['player_position'] == pos, mean_col])\n",
    "    \n",
    "    return df\n"
   ]
  },
  {
   "cell_type": "code",
   "execution_count": 12,
   "id": "f3b8b35a",
   "metadata": {},
   "outputs": [],
   "source": [
    "cols = ['s_90', 's_50', 'dir_90', 'dir_50', 'o_90', 'o_50', 'a_90', 'a_50']\n",
    "\n",
    "for col in cols:\n",
    "    data[f'shrink_b{col}'] = np.nan\n",
    "    data[f'reg_mean{col}'] = np.nan\n",
    "\n",
    "for pos in data['player_position'].unique():\n",
    "    for col in cols:\n",
    "        df_regressed = regressed_means(data, pos=pos, mean_col=col)\n"
   ]
  },
  {
   "cell_type": "code",
   "execution_count": 13,
   "id": "9beb18bf",
   "metadata": {},
   "outputs": [],
   "source": [
    "cols_to_keep = [col for col in df_regressed.columns if col.startswith('reg_mean') or col.startswith('play') or col.startswith('nfl')]\n",
    "df_regressed = df_regressed[cols_to_keep]\n",
    "df_regressed = df_regressed.drop(columns=['player_weight', 'player_height'])"
   ]
  },
  {
   "cell_type": "code",
   "execution_count": 14,
   "id": "13a979b3",
   "metadata": {},
   "outputs": [],
   "source": [
    "df_target = df[['nfl_id', 'player_height', 'player_weight','frame_id', 'player_role', 'play_id', 'x', 'y']]\n",
    "df_train = df_target.merge(df_regressed, on=['nfl_id'], how='left')"
   ]
  },
  {
   "cell_type": "code",
   "execution_count": 15,
   "id": "ff0a4b7e",
   "metadata": {},
   "outputs": [],
   "source": [
    "max_frames = df_train.groupby(['play_id', 'nfl_id'])['frame_id'].max().reset_index()\n",
    "max_frames.columns = ['play_id', 'nfl_id', 'max_frame_id']\n",
    "df_2_extended = df_2.merge(max_frames, on=['play_id', 'nfl_id'], how='inner')\n",
    "\n",
    "df_2_extended['frame_id'] = df_2_extended['frame_id'] + df_2_extended['max_frame_id']\n",
    "\n",
    "common_cols = ['nfl_id', 'play_id', 'frame_id', 'x', 'y']\n",
    "df_2_subset = df_2_extended[common_cols]\n",
    "\n",
    "df_combined = pd.concat([df_train, df_2_subset], ignore_index=True)\n",
    "df_combined = df_combined.sort_values(['play_id', 'nfl_id', 'frame_id']).reset_index(drop=True)"
   ]
  },
  {
   "cell_type": "code",
   "execution_count": 16,
   "id": "522435a3",
   "metadata": {},
   "outputs": [],
   "source": [
    "missing_cols = ['player_height', 'player_weight', 'player_role', 'player_name', 'player_position', 'play_count', \n",
    "                'reg_means_90', 'reg_means_50', 'reg_meandir_90', 'reg_meandir_50', 'reg_meano_90', 'reg_meano_50', \n",
    "                'reg_meana_90', 'reg_meana_50']\n",
    "\n",
    "for col in missing_cols:\n",
    "    if col in df_combined.columns:\n",
    "        df_combined[col] = df_combined.groupby(['play_id', 'nfl_id'])[col].transform(lambda x: x.fillna(x.iloc[0] if x.notna().any() else np.nan))"
   ]
  },
  {
   "cell_type": "code",
   "execution_count": 18,
   "id": "c763868c",
   "metadata": {},
   "outputs": [],
   "source": [
    "df_train['player_height'] = df_train['player_height'].str.split('-').str[0].astype(int) * 12 + df_train['player_height'].str.split('-').str[1].astype(int)"
   ]
  },
  {
   "cell_type": "code",
   "execution_count": 19,
   "id": "ab34f0cf",
   "metadata": {},
   "outputs": [],
   "source": [
    "df_train['change_x'] = df_train.groupby(['nfl_id', 'play_id'])['x'].diff(1)\n",
    "df_train['change_y'] = df_train.groupby(['nfl_id', 'play_id'])['y'].diff(1)\n",
    "df_train = df_train.dropna()"
   ]
  },
  {
   "cell_type": "code",
   "execution_count": 21,
   "id": "7bcd0e0c",
   "metadata": {},
   "outputs": [],
   "source": [
    "cols_to_normalize = ['player_height', 'player_weight', 'reg_means_90', 'reg_means_50', \n",
    "                    'reg_meandir_90', 'reg_meandir_50', 'reg_meano_90', 'reg_meano_50', \n",
    "                    'reg_meana_90', 'reg_meana_50']\n",
    "\n",
    "# normalize each column to 0-1 range\n",
    "for col in cols_to_normalize:\n",
    "    if col in df_train.columns:\n",
    "        min_val = df_train[col].min()\n",
    "        max_val = df_train[col].max()\n",
    "        df_train[col] = (df_train[col] - min_val) / (max_val - min_val)"
   ]
  },
  {
   "cell_type": "markdown",
   "id": "75dfe911",
   "metadata": {},
   "source": [
    "#### creating embeddings"
   ]
  },
  {
   "cell_type": "markdown",
   "id": "e70382be",
   "metadata": {},
   "source": [
    "use neural network with embedding layer to create embeddings based on the change in player positon, model learns repersentation of prior features that are important for the movement of a player. the target feature is change x, change in y. we will have two heads for this. Create seperate postional embeddings per position, and then represent the others as 0s resulting in a sparese matrix "
   ]
  },
  {
   "cell_type": "code",
   "execution_count": 22,
   "id": "0c95d7a3",
   "metadata": {},
   "outputs": [],
   "source": [
    "class PlayerEmbeddingModel(nn.Module):\n",
    "    def __init__(self, num_unique_players, num_prior_features, num_categories, embedding_dim=64, category_embedding_dim=8):\n",
    "\n",
    "        super(PlayerEmbeddingModel, self).__init__()\n",
    "        \n",
    "        self.player_embedding = nn.Embedding(\n",
    "            num_embeddings=num_unique_players,\n",
    "            embedding_dim=embedding_dim\n",
    "        )\n",
    "\n",
    "        self.category_embedding = nn.Embedding(\n",
    "            num_embeddings=num_categories,\n",
    "            embedding_dim=category_embedding_dim\n",
    "        )\n",
    "\n",
    "        concatenated_feature_size = embedding_dim + category_embedding_dim + num_prior_features\n",
    "        \n",
    "        # standard sequential model 64-32-2 \n",
    "        self.prediction_head = nn.Sequential(\n",
    "            nn.Linear(concatenated_feature_size, 64),\n",
    "            nn.ReLU(),\n",
    "            nn.Linear(64, 32),\n",
    "            nn.ReLU(),\n",
    "            nn.Linear(32, 2) # two heads to predict change in x and change in y\n",
    "        )\n",
    "\n",
    "    def forward(self, player_id_input, category_input, prior_stats_input):\n",
    "        embedded_player = self.player_embedding(player_id_input)\n",
    "        embedded_category = self.category_embedding(category_input)\n",
    "\n",
    "        if embedded_player.dim() == 3: # for batch processing\n",
    "            embedded_player = embedded_player.squeeze(1)\n",
    "        \n",
    "        if embedded_category.dim() == 3:\n",
    "            embedded_category = embedded_category.squeeze(1)\n",
    "\n",
    "        concatenated_features = torch.cat([embedded_player, embedded_category, prior_stats_input], dim=1)\n",
    "\n",
    "        output = self.prediction_head(concatenated_features)\n",
    "        return output\n",
    "\n",
    "def extract_embeddings(model):\n",
    "    return model.player_embedding.weight.detach().cpu()\n"
   ]
  },
  {
   "cell_type": "markdown",
   "id": "9d5b4a6a",
   "metadata": {},
   "source": [
    "train"
   ]
  },
  {
   "cell_type": "code",
   "execution_count": 23,
   "id": "cd787d8b",
   "metadata": {},
   "outputs": [],
   "source": [
    "# make postions int values\n",
    "position_mapping = {pos: idx for idx, pos in enumerate(df_train['player_position'].unique())}\n",
    "df_train['position_encoded'] = df_train['player_position'].map(position_mapping)\n",
    "\n",
    "# player_ids cons.\n",
    "player_mapping = {player: idx for idx, player in enumerate(df_train['nfl_id'].unique())}\n",
    "df_train['player_id_encoded'] = df_train['nfl_id'].map(player_mapping)\n",
    "\n",
    "# continious cols\n",
    "cols_cont = ['reg_means_90', 'reg_means_50', 'reg_meandir_90', 'reg_meandir_50', \n",
    "             'reg_meano_90', 'reg_meano_50', 'reg_meana_90', 'reg_meana_50', \n",
    "             'player_height', 'player_weight']\n",
    "X_cont = df_train[cols_cont].values\n",
    "\n",
    "# target\n",
    "y = df_train[['change_x', 'change_y']].values"
   ]
  },
  {
   "cell_type": "code",
   "execution_count": 24,
   "id": "baf83faa",
   "metadata": {},
   "outputs": [],
   "source": [
    "# tensors\n",
    "player_ids = torch.LongTensor(df_train['player_id_encoded'].values)\n",
    "pos_cat = torch.LongTensor(df_train['position_encoded'].values)\n",
    "X_cont = torch.FloatTensor(X_cont)\n",
    "y = torch.FloatTensor(y)"
   ]
  },
  {
   "cell_type": "code",
   "execution_count": null,
   "id": "7a6064b9",
   "metadata": {},
   "outputs": [],
   "source": [
    "# data loader\n",
    "dataset = TensorDataset(player_ids, pos_cat, X_cont, y)\n",
    "train_load = DataLoader(dataset, batch_size=60,shuffle=True)\n",
    "\n",
    "# counts\n",
    "n_players = df_train['nfl_id'].nunique()\n",
    "num_cat = 14\n",
    "num__feat = len(cols_cont)\n",
    "\n",
    "model = PlayerEmbeddingModel(\n",
    "    num_unique_players=n_players,\n",
    "    num_prior_features=num__feat,\n",
    "    num_categories=num_cat,\n",
    "    embedding_dim=10,\n",
    "    category_embedding_dim=6\n",
    ")"
   ]
  },
  {
   "cell_type": "markdown",
   "id": "4e89e094",
   "metadata": {},
   "source": [
    "train loop"
   ]
  },
  {
   "cell_type": "code",
   "execution_count": null,
   "id": "5f604ad4",
   "metadata": {},
   "outputs": [
    {
     "name": "stdout",
     "output_type": "stream",
     "text": [
      "epoch 1, loss: 0.0703675865528224\n",
      "epoch 2, loss: 0.06897248218701715\n",
      "epoch 3, loss: 0.06858578110563736\n",
      "epoch 4, loss: 0.06842888336333149\n",
      "epoch 5, loss: 0.06833271443339434\n",
      "epoch 6, loss: 0.0682703221375908\n",
      "epoch 7, loss: 0.0682306305537441\n",
      "epoch 8, loss: 0.06819040807657471\n",
      "epoch 9, loss: 0.06817217032144922\n",
      "epoch 10, loss: 0.06815974488152983\n",
      "epoch 11, loss: 0.06814105169200078\n",
      "epoch 12, loss: 0.06813999298131154\n",
      "epoch 13, loss: 0.06812294065812016\n",
      "epoch 14, loss: 0.06811855975231619\n",
      "epoch 15, loss: 0.06809500577584554\n",
      "epoch 16, loss: 0.06809900186994094\n",
      "epoch 17, loss: 0.06809792194191057\n",
      "epoch 18, loss: 0.06808483151549549\n",
      "epoch 19, loss: 0.06808324715747416\n",
      "epoch 20, loss: 0.068088354948234\n",
      "epoch 21, loss: 0.06808615774488731\n",
      "epoch 22, loss: 0.0680822479384796\n",
      "epoch 23, loss: 0.06806548086225689\n",
      "epoch 24, loss: 0.06806387066367664\n",
      "epoch 25, loss: 0.06804819055371968\n",
      "epoch 26, loss: 0.0680474118081636\n",
      "epoch 27, loss: 0.06805485267608338\n",
      "epoch 28, loss: 0.06805429906509151\n",
      "epoch 29, loss: 0.06804557394060454\n",
      "epoch 30, loss: 0.06804331151837419\n",
      "epoch 31, loss: 0.06805676290597527\n",
      "epoch 32, loss: 0.06804650040271457\n",
      "epoch 33, loss: 0.06803145442505086\n",
      "epoch 34, loss: 0.06803731874140011\n",
      "epoch 35, loss: 0.0680434220921386\n",
      "epoch 36, loss: 0.06803286050964794\n",
      "epoch 37, loss: 0.06803916708211538\n",
      "epoch 38, loss: 0.06802440422651437\n",
      "epoch 39, loss: 0.0680373692837334\n",
      "epoch 40, loss: 0.068021019771396\n",
      "epoch 41, loss: 0.06802830474986794\n",
      "epoch 42, loss: 0.068019459247651\n",
      "epoch 43, loss: 0.06800668058233811\n",
      "epoch 44, loss: 0.06801012754656924\n",
      "epoch 45, loss: 0.06800653212980337\n",
      "epoch 46, loss: 0.06802504480005787\n",
      "epoch 47, loss: 0.06800230272360808\n",
      "epoch 48, loss: 0.06800597682739665\n",
      "epoch 49, loss: 0.06800332401867398\n",
      "epoch 50, loss: 0.0679999348441497\n",
      "epoch 51, loss: 0.06799513910872965\n",
      "epoch 52, loss: 0.06799413213202304\n",
      "epoch 53, loss: 0.0680055561584151\n",
      "epoch 54, loss: 0.06799719870584577\n",
      "epoch 55, loss: 0.06797659734221982\n",
      "epoch 56, loss: 0.067991897328671\n",
      "epoch 57, loss: 0.06798938024264574\n",
      "epoch 58, loss: 0.0679726000281086\n",
      "epoch 59, loss: 0.06798877518133585\n",
      "epoch 60, loss: 0.06797469966551958\n",
      "epoch 61, loss: 0.06798735602573025\n",
      "epoch 62, loss: 0.06797614613493509\n",
      "epoch 63, loss: 0.06798889693844959\n",
      "epoch 64, loss: 0.06796805080499334\n",
      "epoch 65, loss: 0.06798079490344948\n",
      "epoch 66, loss: 0.06799346193615526\n",
      "epoch 67, loss: 0.06798303800992328\n",
      "epoch 68, loss: 0.0679694937376266\n",
      "epoch 69, loss: 0.06796351735853148\n",
      "epoch 70, loss: 0.06796511877794914\n",
      "epoch 71, loss: 0.06797435635291571\n",
      "epoch 72, loss: 0.06797336296013488\n",
      "epoch 73, loss: 0.06796038971790172\n",
      "epoch 74, loss: 0.06796120974181985\n",
      "epoch 75, loss: 0.06796309348568681\n",
      "epoch 76, loss: 0.06796712833430263\n",
      "epoch 77, loss: 0.06796737748185189\n",
      "epoch 78, loss: 0.06796450282855904\n",
      "epoch 79, loss: 0.0679630023524914\n",
      "epoch 80, loss: 0.06796896113844793\n",
      "epoch 81, loss: 0.06797242245404662\n",
      "epoch 82, loss: 0.0679506473539795\n",
      "epoch 83, loss: 0.06794766372627505\n",
      "epoch 84, loss: 0.06795188159969777\n",
      "epoch 85, loss: 0.06794985814661378\n",
      "epoch 86, loss: 0.06795223772208082\n",
      "epoch 87, loss: 0.06795874020030843\n",
      "epoch 88, loss: 0.0679516171048602\n",
      "epoch 89, loss: 0.06794933880746744\n",
      "epoch 90, loss: 0.06794533053848588\n",
      "epoch 91, loss: 0.06794370012622154\n",
      "epoch 92, loss: 0.06794604065550937\n",
      "epoch 93, loss: 0.06794411442074298\n",
      "epoch 94, loss: 0.06796101353485945\n",
      "epoch 95, loss: 0.06794227840190373\n",
      "epoch 96, loss: 0.06793997255783818\n",
      "epoch 97, loss: 0.06794941957272041\n",
      "epoch 98, loss: 0.06793683867194465\n",
      "epoch 99, loss: 0.06794641557660572\n",
      "epoch 100, loss: 0.06794305730811714\n",
      "epoch 101, loss: 0.0679365186680639\n",
      "epoch 102, loss: 0.0679343846602984\n",
      "epoch 103, loss: 0.06793573319707719\n",
      "epoch 104, loss: 0.06793025238551617\n",
      "epoch 105, loss: 0.06795460605385535\n",
      "epoch 106, loss: 0.06792539733762591\n",
      "epoch 107, loss: 0.06794212901456508\n",
      "epoch 108, loss: 0.06794158742115444\n",
      "epoch 109, loss: 0.06794870936698726\n",
      "epoch 110, loss: 0.06794129897573806\n",
      "epoch 111, loss: 0.06794180935572368\n",
      "epoch 112, loss: 0.06794279274855247\n",
      "epoch 113, loss: 0.0679472272099818\n",
      "epoch 114, loss: 0.06795257315834927\n",
      "epoch 115, loss: 0.06795130778224237\n",
      "epoch 116, loss: 0.06794321361377838\n",
      "epoch 117, loss: 0.06795136813937207\n",
      "epoch 118, loss: 0.06792870090293675\n",
      "epoch 119, loss: 0.06794333861446827\n",
      "epoch 120, loss: 0.0679445289659208\n",
      "epoch 121, loss: 0.0679417486875944\n",
      "epoch 122, loss: 0.06794822762784627\n",
      "epoch 123, loss: 0.06795169838535131\n",
      "epoch 124, loss: 0.06795406490089853\n",
      "epoch 125, loss: 0.06794283337886976\n"
     ]
    }
   ],
   "source": [
    "criterion = nn.MSELoss()\n",
    "optimizer = torch.optim.AdamW(model.parameters(), lr=0.001)\n",
    "\n",
    "best_loss = float('inf')\n",
    "patience = 10\n",
    "patience_counter = 0\n",
    "\n",
    "# train loop with early stopping\n",
    "for epoch in range(1000):\n",
    "    epoch_loss = 0\n",
    "    num_batches = 0\n",
    "    \n",
    "    for player_batch, category_batch, features_batch, targets_batch in train_load:\n",
    "        optimizer.zero_grad() # zero gradients so diff grad across batches dont gte summed\n",
    "        \n",
    "        predictions = model(player_batch, category_batch, features_batch) # forward pass\n",
    "        loss = criterion(predictions, targets_batch) # mse\n",
    "        \n",
    "        loss.backward() # backprop\n",
    "        optimizer.step() # update model weights, update opti\n",
    "        \n",
    "        epoch_loss += loss.item()\n",
    "        num_batches += 1\n",
    "    \n",
    "    # early stopping logic, prevent overfitting\n",
    "    avg_loss = epoch_loss / num_batches\n",
    "    \n",
    "    if avg_loss < best_loss:\n",
    "        best_loss = avg_loss\n",
    "        patience_counter = 0\n",
    "    else:\n",
    "        patience_counter += 1\n",
    "    \n",
    "    if patience_counter >= patience:\n",
    "        break\n",
    "    \n",
    "    print(f'epoch {epoch+1}, loss: {avg_loss}')"
   ]
  },
  {
   "cell_type": "markdown",
   "id": "423c4039",
   "metadata": {},
   "source": [
    "#### save embeddings / plot"
   ]
  },
  {
   "cell_type": "code",
   "execution_count": null,
   "id": "b32478a2",
   "metadata": {},
   "outputs": [],
   "source": [
    "# extract embeddings\n",
    "player_embeddings = extract_embeddings(model)\n",
    "\n",
    "# map embeddings to ids\n",
    "embedding_tensor = player_embeddings\n",
    "nfl_id_mapping = {nfl_id: idx for idx, nfl_id in enumerate(df_train['nfl_id'].unique())}\n",
    "reverse_mapping = {idx: nfl_id for nfl_id, idx in nfl_id_mapping.items()}\n",
    "\n",
    "# save mappings and embeddings\n",
    "torch.save({\n",
    "    'embeddings': embedding_tensor,\n",
    "    'nfl_id_to_idx': nfl_id_mapping,\n",
    "    'idx_to_nfl_id': reverse_mapping,\n",
    "    'embedding_dim': embedding_tensor.shape[1],\n",
    "    'num_players': embedding_tensor.shape[0]\n",
    "}, 'nfl_embeddings.pt')\n",
    "\n"
   ]
  },
  {
   "cell_type": "markdown",
   "id": "0d87660f",
   "metadata": {},
   "source": [
    "plot to see if location makes logical sense"
   ]
  },
  {
   "cell_type": "code",
   "execution_count": null,
   "id": "1b0bade1",
   "metadata": {},
   "outputs": [],
   "source": [
    "tsne = TSNE(n_components=2, random_state=42)\n",
    "player_embeddings_2d = tsne.fit_transform(player_embeddings.numpy())\n",
    "\n",
    "embeddings_df = pd.DataFrame(player_embeddings_2d, columns=['x', 'y'])\n",
    "embeddings_df['nfl_id'] = df_train['nfl_id'].unique() \n",
    "embeddings_df = embeddings_df.merge(df_bio[['nfl_id', 'player_name']], on='nfl_id', how='left')\n",
    "\n",
    "plt.figure(figsize=(10, 8))\n",
    "plt.scatter(embeddings_df['x'], embeddings_df['y'], alpha=0.5)\n",
    "plt.title('Player Embeddings (t-SNE)')\n",
    "plt.xlabel('t-SNE Component 1')\n",
    "plt.ylabel('t-SNE Component 2')\n",
    "\n",
    "num_labels = 50\n",
    "random_indices = random.sample(range(len(embeddings_df)), num_labels)\n",
    "\n",
    "for i in random_indices:\n",
    "    plt.annotate(embeddings_df['player_name'].iloc[i], (embeddings_df['x'].iloc[i], embeddings_df['y'].iloc[i]))\n",
    "\n",
    "plt.show()"
   ]
  }
 ],
 "metadata": {
  "kernelspec": {
   "display_name": "nflLab",
   "language": "python",
   "name": "python3"
  },
  "language_info": {
   "codemirror_mode": {
    "name": "ipython",
    "version": 3
   },
   "file_extension": ".py",
   "mimetype": "text/x-python",
   "name": "python",
   "nbconvert_exporter": "python",
   "pygments_lexer": "ipython3",
   "version": "3.9.23"
  }
 },
 "nbformat": 4,
 "nbformat_minor": 5
}
