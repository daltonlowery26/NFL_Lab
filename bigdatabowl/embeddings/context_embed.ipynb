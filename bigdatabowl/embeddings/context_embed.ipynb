{
 "cells": [
  {
   "cell_type": "markdown",
   "id": "5fdf443a",
   "metadata": {},
   "source": [
    "### creating embeddings for player context"
   ]
  },
  {
   "cell_type": "markdown",
   "id": "86b9ffca",
   "metadata": {},
   "source": [
    "based on predicting player postion using a sequential model"
   ]
  },
  {
   "cell_type": "code",
   "execution_count": 12,
   "id": "5b545be0",
   "metadata": {},
   "outputs": [],
   "source": [
    "import pandas as pd \n",
    "import numpy as np\n",
    "import os\n",
    "import torch\n",
    "import torch.nn as nn\n",
    "from torch.utils.data import TensorDataset, DataLoader\n",
    "from sklearn.linear_model import LinearRegression\n",
    "from sklearn.metrics import r2_score\n",
    "from sklearn.manifold import TSNE\n",
    "import matplotlib.pyplot as plt\n",
    "import random\n",
    "\n",
    "os.chdir('C:/Users/dalto/OneDrive/Pictures/Documents/Emory/NFL Lab/data/')"
   ]
  },
  {
   "cell_type": "code",
   "execution_count": 13,
   "id": "66affe83",
   "metadata": {},
   "outputs": [],
   "source": [
    "df = pd.read_csv('djM_games.csv')"
   ]
  },
  {
   "cell_type": "markdown",
   "id": "7d8057e8",
   "metadata": {},
   "source": [
    "context for a certian play includes distance to go, qbs average tedencies which also are reflected in the teams average tendencies, time left in qtr "
   ]
  },
  {
   "cell_type": "code",
   "execution_count": 15,
   "id": "2be39264",
   "metadata": {},
   "outputs": [],
   "source": [
    "context = df[['play_direction', 'absolute_yardline_number', 'ball_land_x', 'ball_land_y', 'play_id_n', 'num_frames_output']].drop_duplicates()\n",
    "qb_id = df[['play_id_n', 'player_name', 'player_position', 'nfl_id']]\n",
    "qb_id = qb_id[qb_id['player_position'] == 'QB']\n",
    "qb_id = qb_id[qb_id['player_name'] != 'Taysom Hill']"
   ]
  },
  {
   "cell_type": "code",
   "execution_count": 16,
   "id": "2ba761fa",
   "metadata": {},
   "outputs": [],
   "source": [
    "df_qb = df[df['player_position'] == 'QB']\n",
    "df_qb = df_qb.loc[df_qb.groupby('play_id_n')['frame_id'].idxmax()]\n",
    "df_qb['max_throw'] = np.sqrt(np.square(df_qb['ball_land_x'] - df_qb['x']) + np.square(df_qb['ball_land_y'] - df_qb['y'] ))\n",
    "df_qb = df_qb[df_qb['player_to_predict'] != True]\n"
   ]
  },
  {
   "cell_type": "code",
   "execution_count": 17,
   "id": "ac938476",
   "metadata": {},
   "outputs": [],
   "source": [
    "df_qb_stats = df_qb.groupby('nfl_id')['max_throw'].quantile([0.2, 0.5, 0.95]).unstack()\n",
    "df_qb_stats.columns = ['max_throw_20', 'max_throw_50', 'max_throw_90']\n",
    "df_qb_stats = df_qb_stats.reset_index()"
   ]
  },
  {
   "cell_type": "code",
   "execution_count": 18,
   "id": "26280ae2",
   "metadata": {},
   "outputs": [],
   "source": [
    "qb_id = qb_id.merge(df_qb_stats, on=['nfl_id'], how='left').drop_duplicates().drop(columns=['player_name', 'player_position', 'nfl_id'])\n",
    "context = context.merge(qb_id, on=['play_id_n'], how='left')\n",
    "df_train = df[['game_id', 'x', 'y', 'play_id_n', 'nfl_id']]\n",
    "df_train = df_train.merge(context, on='play_id_n', how='left')"
   ]
  },
  {
   "cell_type": "code",
   "execution_count": null,
   "id": "5584adfa",
   "metadata": {},
   "outputs": [],
   "source": [
    "mask = df['play_direction'] == 'right'\n",
    "df_train.loc[mask, 'dist_to_go'] = 110 - df[mask, 'absolute_yard_line']\n",
    "\n",
    "mask = df['play_direction'] == 'left'\n",
    "df_train.loc[mask, 'dist_to_go'] = df[mask, 'absolute_yard_line'] - 10"
   ]
  },
  {
   "cell_type": "code",
   "execution_count": null,
   "id": "deadbf32",
   "metadata": {},
   "outputs": [
    {
     "data": {
      "application/vnd.microsoft.datawrangler.viewer.v0+json": {
       "columns": [
        {
         "name": "index",
         "rawType": "int64",
         "type": "integer"
        },
        {
         "name": "game_id",
         "rawType": "int64",
         "type": "integer"
        },
        {
         "name": "play_id_n",
         "rawType": "int64",
         "type": "integer"
        },
        {
         "name": "nfl_id",
         "rawType": "int64",
         "type": "integer"
        },
        {
         "name": "play_direction",
         "rawType": "object",
         "type": "string"
        },
        {
         "name": "absolute_yardline_number",
         "rawType": "float64",
         "type": "float"
        },
        {
         "name": "ball_land_x",
         "rawType": "float64",
         "type": "float"
        },
        {
         "name": "ball_land_y",
         "rawType": "float64",
         "type": "float"
        },
        {
         "name": "num_frames_output",
         "rawType": "float64",
         "type": "float"
        },
        {
         "name": "max_throw_20",
         "rawType": "float64",
         "type": "float"
        },
        {
         "name": "max_throw_50",
         "rawType": "float64",
         "type": "float"
        },
        {
         "name": "max_throw_90",
         "rawType": "float64",
         "type": "float"
        },
        {
         "name": "change_x",
         "rawType": "float64",
         "type": "float"
        },
        {
         "name": "change_y",
         "rawType": "float64",
         "type": "float"
        }
       ],
       "ref": "a92bcda5-efef-47f9-888f-2d65f1f65b0a",
       "rows": [
        [
         "0",
         "2023091008",
         "696",
         "42381",
         "left",
         "79.0",
         "80.8000030517578",
         "5.59000015258789",
         "10.0",
         "14.82061297766785",
         "20.772089319600685",
         "44.78128797468195",
         "2.9299999999999926",
         "4.949999999999999"
        ],
        [
         "38",
         "2023091008",
         "696",
         "44911",
         "left",
         "79.0",
         "80.8000030517578",
         "5.59000015258789",
         "10.0",
         "14.82061297766785",
         "20.772089319600685",
         "44.78128797468195",
         "2.739999999999995",
         "10.07"
        ],
        [
         "76",
         "2023091008",
         "696",
         "45021",
         "left",
         "79.0",
         "80.8000030517578",
         "5.59000015258789",
         "10.0",
         "14.82061297766785",
         "20.772089319600685",
         "44.78128797468195",
         "7.030000000000001",
         "3.0199999999999996"
        ],
        [
         "104",
         "2023091008",
         "696",
         "46087",
         "left",
         "79.0",
         "80.8000030517578",
         "5.59000015258789",
         "10.0",
         "14.82061297766785",
         "20.772089319600685",
         "44.78128797468195",
         "1.6500000000000057",
         "6.479999999999997"
        ],
        [
         "132",
         "2023091008",
         "696",
         "46093",
         "left",
         "79.0",
         "80.8000030517578",
         "5.59000015258789",
         "10.0",
         "14.82061297766785",
         "20.772089319600685",
         "44.78128797468195",
         "6.8300000000000125",
         "8.899999999999999"
        ]
       ],
       "shape": {
        "columns": 13,
        "rows": 5
       }
      },
      "text/html": [
       "<div>\n",
       "<style scoped>\n",
       "    .dataframe tbody tr th:only-of-type {\n",
       "        vertical-align: middle;\n",
       "    }\n",
       "\n",
       "    .dataframe tbody tr th {\n",
       "        vertical-align: top;\n",
       "    }\n",
       "\n",
       "    .dataframe thead th {\n",
       "        text-align: right;\n",
       "    }\n",
       "</style>\n",
       "<table border=\"1\" class=\"dataframe\">\n",
       "  <thead>\n",
       "    <tr style=\"text-align: right;\">\n",
       "      <th></th>\n",
       "      <th>game_id</th>\n",
       "      <th>play_id_n</th>\n",
       "      <th>nfl_id</th>\n",
       "      <th>play_direction</th>\n",
       "      <th>absolute_yardline_number</th>\n",
       "      <th>ball_land_x</th>\n",
       "      <th>ball_land_y</th>\n",
       "      <th>num_frames_output</th>\n",
       "      <th>max_throw_20</th>\n",
       "      <th>max_throw_50</th>\n",
       "      <th>max_throw_90</th>\n",
       "      <th>change_x</th>\n",
       "      <th>change_y</th>\n",
       "    </tr>\n",
       "  </thead>\n",
       "  <tbody>\n",
       "    <tr>\n",
       "      <th>0</th>\n",
       "      <td>2023091008</td>\n",
       "      <td>696</td>\n",
       "      <td>42381</td>\n",
       "      <td>left</td>\n",
       "      <td>79.0</td>\n",
       "      <td>80.800003</td>\n",
       "      <td>5.59</td>\n",
       "      <td>10.0</td>\n",
       "      <td>14.820613</td>\n",
       "      <td>20.772089</td>\n",
       "      <td>44.781288</td>\n",
       "      <td>2.93</td>\n",
       "      <td>4.95</td>\n",
       "    </tr>\n",
       "    <tr>\n",
       "      <th>38</th>\n",
       "      <td>2023091008</td>\n",
       "      <td>696</td>\n",
       "      <td>44911</td>\n",
       "      <td>left</td>\n",
       "      <td>79.0</td>\n",
       "      <td>80.800003</td>\n",
       "      <td>5.59</td>\n",
       "      <td>10.0</td>\n",
       "      <td>14.820613</td>\n",
       "      <td>20.772089</td>\n",
       "      <td>44.781288</td>\n",
       "      <td>2.74</td>\n",
       "      <td>10.07</td>\n",
       "    </tr>\n",
       "    <tr>\n",
       "      <th>76</th>\n",
       "      <td>2023091008</td>\n",
       "      <td>696</td>\n",
       "      <td>45021</td>\n",
       "      <td>left</td>\n",
       "      <td>79.0</td>\n",
       "      <td>80.800003</td>\n",
       "      <td>5.59</td>\n",
       "      <td>10.0</td>\n",
       "      <td>14.820613</td>\n",
       "      <td>20.772089</td>\n",
       "      <td>44.781288</td>\n",
       "      <td>7.03</td>\n",
       "      <td>3.02</td>\n",
       "    </tr>\n",
       "    <tr>\n",
       "      <th>104</th>\n",
       "      <td>2023091008</td>\n",
       "      <td>696</td>\n",
       "      <td>46087</td>\n",
       "      <td>left</td>\n",
       "      <td>79.0</td>\n",
       "      <td>80.800003</td>\n",
       "      <td>5.59</td>\n",
       "      <td>10.0</td>\n",
       "      <td>14.820613</td>\n",
       "      <td>20.772089</td>\n",
       "      <td>44.781288</td>\n",
       "      <td>1.65</td>\n",
       "      <td>6.48</td>\n",
       "    </tr>\n",
       "    <tr>\n",
       "      <th>132</th>\n",
       "      <td>2023091008</td>\n",
       "      <td>696</td>\n",
       "      <td>46093</td>\n",
       "      <td>left</td>\n",
       "      <td>79.0</td>\n",
       "      <td>80.800003</td>\n",
       "      <td>5.59</td>\n",
       "      <td>10.0</td>\n",
       "      <td>14.820613</td>\n",
       "      <td>20.772089</td>\n",
       "      <td>44.781288</td>\n",
       "      <td>6.83</td>\n",
       "      <td>8.90</td>\n",
       "    </tr>\n",
       "  </tbody>\n",
       "</table>\n",
       "</div>"
      ],
      "text/plain": [
       "        game_id  play_id_n  nfl_id play_direction  absolute_yardline_number  \\\n",
       "0    2023091008        696   42381           left                      79.0   \n",
       "38   2023091008        696   44911           left                      79.0   \n",
       "76   2023091008        696   45021           left                      79.0   \n",
       "104  2023091008        696   46087           left                      79.0   \n",
       "132  2023091008        696   46093           left                      79.0   \n",
       "\n",
       "     ball_land_x  ball_land_y  num_frames_output  max_throw_20  max_throw_50  \\\n",
       "0      80.800003         5.59               10.0     14.820613     20.772089   \n",
       "38     80.800003         5.59               10.0     14.820613     20.772089   \n",
       "76     80.800003         5.59               10.0     14.820613     20.772089   \n",
       "104    80.800003         5.59               10.0     14.820613     20.772089   \n",
       "132    80.800003         5.59               10.0     14.820613     20.772089   \n",
       "\n",
       "     max_throw_90  change_x  change_y  \n",
       "0       44.781288      2.93      4.95  \n",
       "38      44.781288      2.74     10.07  \n",
       "76      44.781288      7.03      3.02  \n",
       "104     44.781288      1.65      6.48  \n",
       "132     44.781288      6.83      8.90  "
      ]
     },
     "execution_count": 19,
     "metadata": {},
     "output_type": "execute_result"
    }
   ],
   "source": [
    "df_train['change_x'] = df_train.groupby(['nfl_id', 'play_id_n'])['x'].transform(lambda x: x.max() - x.min())\n",
    "df_train['change_y'] = df_train.groupby(['nfl_id', 'play_id_n'])['y'].transform(lambda x: x.max() - x.min())\n",
    "df_train = df_train.dropna().drop(columns=['x', 'y']).drop_duplicates()"
   ]
  },
  {
   "cell_type": "code",
   "execution_count": 20,
   "id": "0b612fb5",
   "metadata": {},
   "outputs": [],
   "source": [
    "cols_to_normalize = df_train.columns.drop(['play_id_n', 'nfl_id', 'game_id', 'play_direction'])\n",
    "\n",
    "for col in cols_to_normalize:\n",
    "    if col in df_train.columns:\n",
    "        min_val = df_train[col].min()\n",
    "        max_val = df_train[col].max()\n",
    "        df_train[col] = (df_train[col] - min_val) / (max_val - min_val)"
   ]
  },
  {
   "cell_type": "markdown",
   "id": "7a255ead",
   "metadata": {},
   "source": [
    "### Embedding Model"
   ]
  },
  {
   "cell_type": "code",
   "execution_count": null,
   "id": "0f65acf4",
   "metadata": {},
   "outputs": [],
   "source": [
    "class PlayerEmbeddingModel(nn.Module):\n",
    "    def __init__(self, num_unique_players, num_prior_features, embedding_dim=16):\n",
    "\n",
    "        super(PlayerEmbeddingModel, self).__init__()\n",
    "        \n",
    "        self.player_embedding = nn.Embedding(\n",
    "            num_embeddings=num_unique_players,\n",
    "            embedding_dim=embedding_dim\n",
    "        )\n",
    "\n",
    "\n",
    "        concatenated_feature_size = embedding_dim + num_prior_features\n",
    "        \n",
    "        # standard sequential model 64-32-2 \n",
    "        self.prediction_head = nn.Sequential(\n",
    "            nn.Linear(concatenated_feature_size, 64),\n",
    "            nn.ReLU(),\n",
    "            nn.Linear(64, 32),\n",
    "            nn.ReLU(),\n",
    "            nn.Linear(32, 2) # two heads to predict change in x and change in y\n",
    "        )\n",
    "\n",
    "    def forward(self, player_id_input,  prior_stats_input):\n",
    "        embedded_player = self.player_embedding(player_id_input)\n",
    "\n",
    "        if embedded_player.dim() == 3: # for batch processing\n",
    "            embedded_player = embedded_player.squeeze(1)\n",
    "\n",
    "        concatenated_features = torch.cat([embedded_player, prior_stats_input], dim=1)\n",
    "\n",
    "        output = self.prediction_head(concatenated_features)\n",
    "        return output\n",
    "\n",
    "def extract_embeddings(model):\n",
    "    return model.player_embedding.weight.detach().cpu()"
   ]
  },
  {
   "cell_type": "code",
   "execution_count": null,
   "id": "e3145d9a",
   "metadata": {},
   "outputs": [],
   "source": [
    "# player_ids cons.\n",
    "id_mapping = {player: idx for idx, player in enumerate(df_train['play_id_n'].unique())}\n",
    "df_train['play_id_encoded'] = df_train['play_id_n'].map(id_mapping)\n",
    "\n",
    "# continious cols\n",
    "cols_cont = ['absolute_yardline_number', 'ball_land_x', 'ball_land_y', 'num_frames_output', 'max_throw_20',\n",
    "             'max_throw_50', 'max_throw_90']\n",
    "X_cont = df_train[cols_cont].values\n",
    "\n",
    "# target\n",
    "y = df_train[['change_x', 'change_y']].values"
   ]
  },
  {
   "cell_type": "code",
   "execution_count": null,
   "id": "6231b067",
   "metadata": {},
   "outputs": [],
   "source": [
    "# tensors\n",
    "player_ids = torch.LongTensor(df_train['play_id_encoded'].values)\n",
    "X_cont = torch.FloatTensor(X_cont)\n",
    "y = torch.FloatTensor(y)"
   ]
  },
  {
   "cell_type": "code",
   "execution_count": null,
   "id": "d8d4abb2",
   "metadata": {},
   "outputs": [],
   "source": [
    "# data loader\n",
    "dataset = TensorDataset(player_ids, X_cont, y)\n",
    "train_load = DataLoader(dataset, batch_size=127, shuffle=True)\n",
    "\n",
    "# counts\n",
    "n_players = df_train['play_id_n'].nunique()\n",
    "num_cat = 2\n",
    "num__feat = len(cols_cont)\n",
    "\n",
    "model = PlayerEmbeddingModel(\n",
    "    num_unique_players=n_players,\n",
    "    num_prior_features=num__feat,\n",
    "    num_categories=num_cat,\n",
    "    embedding_dim=4,\n",
    "    category_embedding_dim=1\n",
    ")"
   ]
  },
  {
   "cell_type": "code",
   "execution_count": 30,
   "id": "ae3d324d",
   "metadata": {},
   "outputs": [
    {
     "name": "stdout",
     "output_type": "stream",
     "text": [
      "epoch 1, loss: 0.008622333760855787\n",
      "epoch 11, loss: 0.008573540952056646\n"
     ]
    }
   ],
   "source": [
    "criterion = nn.MSELoss()\n",
    "optimizer = torch.optim.AdamW(model.parameters(), lr=0.001)\n",
    "\n",
    "best_loss = float('inf')\n",
    "patience = 10\n",
    "patience_counter = 0\n",
    "\n",
    "# train loop with early stopping\n",
    "for epoch in range(1000):\n",
    "    epoch_loss = 0\n",
    "    num_batches = 0\n",
    "    \n",
    "    for player_batch, category_batch, features_batch, targets_batch in train_load:\n",
    "        optimizer.zero_grad() # zero gradients so diff grad across batches dont gte summed\n",
    "        \n",
    "        predictions = model(player_batch, category_batch, features_batch) # forward pass\n",
    "        loss = criterion(predictions, targets_batch) # mse\n",
    "        \n",
    "        loss.backward() # backprop\n",
    "        optimizer.step() # update model weights, update opti\n",
    "        \n",
    "        epoch_loss += loss.item()\n",
    "        num_batches += 1\n",
    "    \n",
    "    # early stopping logic, prevent overfitting\n",
    "    avg_loss = epoch_loss / num_batches\n",
    "    \n",
    "    if avg_loss < best_loss:\n",
    "        best_loss = avg_loss\n",
    "        patience_counter = 0\n",
    "    else:\n",
    "        patience_counter += 1\n",
    "    \n",
    "    if patience_counter >= patience:\n",
    "        break\n",
    "    if epoch % 10 == 0:\n",
    "        print(f'epoch {epoch+1}, loss: {avg_loss}')"
   ]
  },
  {
   "cell_type": "code",
   "execution_count": null,
   "id": "00c40fd0",
   "metadata": {},
   "outputs": [],
   "source": [
    "# extract embeddings\n",
    "player_embeddings = extract_embeddings(model)\n",
    "\n",
    "# map embeddings to ids\n",
    "embedding_tensor = player_embeddings\n",
    "nfl_id_mapping = {nfl_id: idx for idx, nfl_id in enumerate(df_train['nfl_id'].unique())}\n",
    "reverse_mapping = {idx: nfl_id for nfl_id, idx in nfl_id_mapping.items()}\n",
    "\n",
    "# save mappings and embeddings\n",
    "torch.save({\n",
    "    'embeddings': embedding_tensor,\n",
    "    'nfl_id_to_idx': nfl_id_mapping,\n",
    "    'idx_to_nfl_id': reverse_mapping,\n",
    "    'embedding_dim': embedding_tensor.shape[1],\n",
    "    'num_players': embedding_tensor.shape[0]\n",
    "}, 'dj_context_embeddings.pt')\n"
   ]
  }
 ],
 "metadata": {
  "kernelspec": {
   "display_name": "nflLab",
   "language": "python",
   "name": "python3"
  },
  "language_info": {
   "codemirror_mode": {
    "name": "ipython",
    "version": 3
   },
   "file_extension": ".py",
   "mimetype": "text/x-python",
   "name": "python",
   "nbconvert_exporter": "python",
   "pygments_lexer": "ipython3",
   "version": "3.9.23"
  }
 },
 "nbformat": 4,
 "nbformat_minor": 5
}
