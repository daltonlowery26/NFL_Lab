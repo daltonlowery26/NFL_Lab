{
 "cells": [
  {
   "cell_type": "markdown",
   "id": "c703d6cd",
   "metadata": {},
   "source": [
    "### Most Clutch Kickers"
   ]
  },
  {
   "cell_type": "markdown",
   "id": "d8832f3e",
   "metadata": {},
   "source": [
    "two definitions of clutch (kicks to take lead, or increase score by more then two postions with less then 4 minutes in the 4th quarter)\n",
    "- kickers who outpreform there general skill the most in clutch situations\n",
    "- kickers who make the most clutch kicks"
   ]
  },
  {
   "cell_type": "code",
   "execution_count": 1,
   "id": "e0b2b124",
   "metadata": {},
   "outputs": [],
   "source": [
    "import pandas as pd\n",
    "import os\n",
    "import matplotlib.pyplot as plt\n",
    "from scipy.optimize import curve_fit\n",
    "import numpy as np\n",
    "\n",
    "os.chdir('C:/Users/dalto/OneDrive/Pictures/Documents/Emory/NFL Lab/')"
   ]
  },
  {
   "cell_type": "markdown",
   "id": "565a2851",
   "metadata": {},
   "source": [
    "### load and clean"
   ]
  },
  {
   "cell_type": "code",
   "execution_count": 2,
   "id": "9de51a44",
   "metadata": {},
   "outputs": [],
   "source": [
    "df = pd.read_csv('data/nfl_kick_attempts.csv')"
   ]
  },
  {
   "cell_type": "code",
   "execution_count": 3,
   "id": "b9287f59",
   "metadata": {},
   "outputs": [],
   "source": [
    "# remove trailing spaces\n",
    "df['kicker_player_name'] = df['kicker_player_name'].str.replace(' ', '')\n",
    "df = df.drop_duplicates()"
   ]
  },
  {
   "cell_type": "markdown",
   "id": "9a6cdf93",
   "metadata": {},
   "source": [
    "### ev of kicks"
   ]
  },
  {
   "cell_type": "markdown",
   "id": "50ef3d70",
   "metadata": {},
   "source": [
    "#### xp"
   ]
  },
  {
   "cell_type": "code",
   "execution_count": 4,
   "id": "695ae92d",
   "metadata": {},
   "outputs": [
    {
     "name": "stdout",
     "output_type": "stream",
     "text": [
      "    season  count     xp_ev kick_type\n",
      "0     1999   1059  0.988669        XP\n",
      "1     2000   1053  0.990503        XP\n",
      "2     2001   1027  0.981500        XP\n",
      "3     2002   1170  0.981197        XP\n",
      "4     2003   1130  0.982301        XP\n",
      "5     2004   1191  0.989924        XP\n",
      "6     2005   1116  0.984767        XP\n",
      "7     2006   1138  0.987698        XP\n",
      "8     2007   1182  0.985618        XP\n",
      "9     2008   1180  0.991525        XP\n",
      "10    2009   1187  0.981466        XP\n",
      "11    2010   1217  0.988496        XP\n",
      "12    2011   1207  0.994200        XP\n",
      "13    2012   1237  0.993533        XP\n",
      "14    2013   1267  0.996054        XP\n",
      "15    2014   1231  0.992689        XP\n",
      "16    2015   1217  0.941660        XP\n",
      "17    2016   1195  0.936402        XP\n",
      "18    2017   1134  0.940035        XP\n",
      "19    2018   1235  0.942510        XP\n",
      "20    2019   1210  0.938843        XP\n",
      "21    2020   1338  0.929746        XP\n",
      "22    2021   1257  0.933970        XP\n",
      "23    2022   1187  0.946083        XP\n",
      "24    2023   1169  0.958939        XP\n",
      "25    2024   1241  0.958098        XP\n"
     ]
    }
   ],
   "source": [
    "xp = df[df['extra_point'] == 1]\n",
    "xp_ev = xp.groupby(['season'])['made'].agg(['count', 'mean']).reset_index().rename(columns={'mean':'xp_ev'})\n",
    "xp_ev['kick_type'] = 'XP'\n",
    "print(xp_ev)"
   ]
  },
  {
   "cell_type": "code",
   "execution_count": 5,
   "id": "72801040",
   "metadata": {},
   "outputs": [],
   "source": [
    "df = df.merge(xp_ev, on=['season', 'kick_type'], how='left').drop(columns=['count'])"
   ]
  },
  {
   "cell_type": "code",
   "execution_count": 6,
   "id": "58a397be",
   "metadata": {},
   "outputs": [],
   "source": [
    "mask = df['extra_point'] == 1\n",
    "df.loc[mask, 'xp_ev'] = df.loc[mask, 'made'] - df.loc[mask, 'xp_ev'] # ev of xp minus 1 to get added value "
   ]
  },
  {
   "cell_type": "markdown",
   "id": "e1c1200a",
   "metadata": {},
   "source": [
    "#### fg"
   ]
  },
  {
   "cell_type": "code",
   "execution_count": 7,
   "id": "80e34159",
   "metadata": {},
   "outputs": [
    {
     "name": "stdout",
     "output_type": "stream",
     "text": [
      "   kick_distance  season  weighted_mean\n",
      "0             18    1999            1.0\n",
      "1             18    2000            1.0\n",
      "2             18    2001            1.0\n",
      "3             18    2002            1.0\n",
      "4             18    2003            1.0\n"
     ]
    },
    {
     "name": "stderr",
     "output_type": "stream",
     "text": [
      "C:\\Users\\dalto\\AppData\\Local\\Temp\\ipykernel_20340\\3837251224.py:25: DeprecationWarning: DataFrameGroupBy.apply operated on the grouping columns. This behavior is deprecated, and in a future version of pandas the grouping columns will be excluded from the operation. Either pass `include_groups=False` to exclude the groupings or explicitly select the grouping columns after groupby to silence this warning.\n",
      "  fg_ev_weighted = fg_ev.groupby('kick_distance', group_keys=False).apply(weighted_season_avg).reset_index(drop=True)\n"
     ]
    }
   ],
   "source": [
    "fg = df[df['extra_point'] == 0]\n",
    "fg_ev = fg.groupby(['kick_distance', 'season'])['made'].agg(['count', 'mean']).reset_index()\n",
    "\n",
    "\n",
    "weights = {0: 0.25, 1: 0.20, 2: 0.15}\n",
    "default_weight = 0.1\n",
    "\n",
    "def weighted_season_avg(group):\n",
    "    results = []\n",
    "    seasons = sorted(group['season'].unique())\n",
    "    for season in seasons:\n",
    "        weighted_sum = 0\n",
    "        total_weight = 0\n",
    "        for offset in range(0, -7, -1):\n",
    "            target_season = season + offset\n",
    "            weight = weights.get(offset, default_weight)\n",
    "            match = group[group['season'] == target_season]\n",
    "            if not match.empty:\n",
    "                weighted_sum += match['mean'].values[0] * weight\n",
    "                total_weight += weight\n",
    "        avg = weighted_sum / total_weight if total_weight > 0 else np.nan\n",
    "        results.append({'kick_distance': group['kick_distance'].iloc[0], 'season': season, 'weighted_mean': avg})\n",
    "    return pd.DataFrame(results)\n",
    "\n",
    "fg_ev_weighted = fg_ev.groupby('kick_distance', group_keys=False).apply(weighted_season_avg).reset_index(drop=True)\n",
    "print(fg_ev_weighted.head())"
   ]
  },
  {
   "cell_type": "markdown",
   "id": "40edcf32",
   "metadata": {},
   "source": [
    "fit a curve"
   ]
  },
  {
   "cell_type": "code",
   "execution_count": 8,
   "id": "7f8bbbba",
   "metadata": {},
   "outputs": [],
   "source": [
    "def polynomial_func(x, a, b, c):\n",
    "        return a * x**2 + b * x + c"
   ]
  },
  {
   "cell_type": "code",
   "execution_count": 9,
   "id": "54a1d8fc",
   "metadata": {},
   "outputs": [],
   "source": [
    "poly = []\n",
    "for season in fg_ev_weighted['season']:\n",
    "        fg_ev_fit = fg_ev_weighted[fg_ev_weighted['season'] == season]\n",
    "\n",
    "        ppot, pcov = curve_fit(polynomial_func, fg_ev_fit['kick_distance'], fg_ev_fit['weighted_mean'], p0=[1, 0.5, 0])\n",
    "        poly.append({\n",
    "                'season': season,\n",
    "                'ppot': ppot,\n",
    "                'pcov': pcov\n",
    "        })\n",
    "poly = pd.DataFrame(poly)"
   ]
  },
  {
   "cell_type": "code",
   "execution_count": 20,
   "id": "068b224b",
   "metadata": {},
   "outputs": [
    {
     "data": {
      "text/plain": [
       "[<matplotlib.lines.Line2D at 0x1d30d0f81d0>]"
      ]
     },
     "execution_count": 20,
     "metadata": {},
     "output_type": "execute_result"
    },
    {
     "data": {
      "image/png": "[encoded data removed]",
      "text/plain": [
       "<Figure size 640x480 with 1 Axes>"
      ]
     },
     "metadata": {},
     "output_type": "display_data"
    }
   ],
   "source": [
    "fg_ev_plt = fg_ev[fg_ev['season'] == 2024]\n",
    "ppot_season = poly[poly['season'] == 2024]['ppot'].iloc[0]\n",
    "\n",
    "plt.scatter(x=fg_ev_plt['kick_distance'], y=fg_ev_plt['mean'])\n",
    "plt.plot(fg_ev_plt['kick_distance'], polynomial_func(fg_ev_plt['kick_distance'], *ppot_season), color='red')"
   ]
  },
  {
   "cell_type": "code",
   "execution_count": 11,
   "id": "777953b3",
   "metadata": {},
   "outputs": [],
   "source": [
    "mask = df['extra_point'] == 0\n",
    "df['fg_prob'] = np.nan\n",
    "\n",
    "for season in df['season'].unique():\n",
    "    ppot_season = poly[poly['season'] == season]['ppot'].iloc[0]\n",
    "    season_mask = df['season'] == season\n",
    "    df.loc[season_mask, 'fg_prob'] = polynomial_func(df.loc[season_mask, 'kick_distance'], *ppot_season).clip(1, 0)\n",
    "\n",
    "df.loc[mask, 'xp_ev'] = df.loc[mask, 'made'] - df.loc[mask, 'fg_prob']\n",
    "df = df.rename(columns={'xp_ev': 'ev'})"
   ]
  },
  {
   "cell_type": "markdown",
   "id": "074061a6",
   "metadata": {},
   "source": [
    "### Average Preformance"
   ]
  },
  {
   "cell_type": "code",
   "execution_count": 12,
   "id": "3a97313d",
   "metadata": {},
   "outputs": [],
   "source": [
    "df_avg_ev = df.groupby('kick_distance')['ev'].agg(['count', 'mean']).reset_index().rename(columns={'mean':'avg_ev_at_dist'})\n",
    "df = df.merge(df_avg_ev, on=['kick_distance'], how='right')\n",
    "df['ev_above_average'] = df['ev'] - df['avg_ev_at_dist']"
   ]
  },
  {
   "cell_type": "markdown",
   "id": "de494cc2",
   "metadata": {},
   "source": [
    "best kickers by this"
   ]
  },
  {
   "cell_type": "code",
   "execution_count": 13,
   "id": "999e2c27",
   "metadata": {},
   "outputs": [
    {
     "name": "stdout",
     "output_type": "stream",
     "text": [
      "0.9425041502239284\n"
     ]
    }
   ],
   "source": [
    "df_player = df.groupby(['kicker_player_id'])['ev_above_average'].agg(['sum', 'count', 'mean']).reset_index()\n",
    "df_acc = df.groupby(['kicker_player_id'])['made'].agg(['mean']).reset_index()\n",
    "df_acc = df_acc.rename(columns={'mean':'acc'})\n",
    "df_player = df_player.merge(df_acc, on=['kicker_player_id'])\n",
    "print(df_player['mean'].corr(df_player['acc']))"
   ]
  },
  {
   "cell_type": "markdown",
   "id": "b9788475",
   "metadata": {},
   "source": [
    "### Stability"
   ]
  },
  {
   "cell_type": "code",
   "execution_count": 14,
   "id": "8b52e416",
   "metadata": {},
   "outputs": [],
   "source": [
    "eligible_kickers = df.groupby('kicker_player_id').filter(lambda x: len(x) >= 30)\n",
    "\n",
    "eligible_kickers_sorted = eligible_kickers.sort_values(by=['kicker_player_id', 'game_date'])\n",
    "\n",
    "first_25_means = eligible_kickers_sorted.groupby('kicker_player_id')['ev_above_average'].apply(\n",
    "    lambda group: group.head(15).sum()\n",
    ").reset_index()\n",
    "\n",
    "next_25_means = eligible_kickers_sorted.groupby('kicker_player_id')['ev_above_average'].apply(\n",
    "    lambda group: group.iloc[15:30].sum()\n",
    ").reset_index()\n",
    "\n",
    "means = first_25_means.merge(next_25_means, on=['kicker_player_id'])"
   ]
  },
  {
   "cell_type": "code",
   "execution_count": 15,
   "id": "17b560c7",
   "metadata": {},
   "outputs": [
    {
     "name": "stdout",
     "output_type": "stream",
     "text": [
      "-0.003951666250792972\n"
     ]
    }
   ],
   "source": [
    "print(means['ev_above_average_x'].corr(means['ev_above_average_y']))"
   ]
  },
  {
   "cell_type": "markdown",
   "id": "069c2364",
   "metadata": {},
   "source": [
    "### Define Clutch Time"
   ]
  },
  {
   "cell_type": "code",
   "execution_count": 16,
   "id": "d926fad7",
   "metadata": {},
   "outputs": [],
   "source": [
    "clutch_score_diff = [-8, -7, -6, -5, -4, -3, -2, -1, 0, 1, 2, 3, 4, 5, 6, 7, 8]\n",
    "close_game = [-2, -1, 1, 2]\n",
    "df_clutch = df[((df['qtr'] == 4) & (df['quarter_seconds_remaining'] < 300) & (df['score_differential'].isin(clutch_score_diff))) | \n",
    "               ((df['qtr'] == 2) & (df['quarter_seconds_remaining'] < 120) & (df['score_differential'].isin(close_game)))]\n",
    "\n",
    "df_clutch_player = df_clutch.groupby(['kicker_player_id'])['ev_above_average'].agg(['sum', 'mean', 'count'])\n",
    "df_clutch_player_acc = df_clutch[df_clutch['extra_point'] == 0].groupby(['kicker_player_id'])['made'].agg(['mean']).rename(columns={'mean':'acc'})\n",
    "df_clutch_player = df_clutch_player.merge(df_clutch_player_acc, on=['kicker_player_id']).rename(columns={'acc':'clutchK_acc', 'mean':'clutch_ev', 'count':'clutch_count', 'sum':'clutch_sum'}).reset_index()"
   ]
  },
  {
   "cell_type": "code",
   "execution_count": 17,
   "id": "cc46e21d",
   "metadata": {},
   "outputs": [],
   "source": [
    "df_player_compare = df_clutch_player.merge(df_player, on=['kicker_player_id'], how='right')\n",
    "df_diff = pd.DataFrame()\n",
    "df_diff['kicker_player_id'] = df_player_compare['kicker_player_id']\n",
    "df_diff['clutch_count'] = df_player_compare['clutch_count']\n",
    "df_diff['ev_diff'] = df_player_compare['clutch_ev'] - df_player_compare['mean']\n",
    "df_diff['acc'] = df_player_compare['clutchK_acc'] - df_player_compare['acc']"
   ]
  },
  {
   "cell_type": "code",
   "execution_count": 18,
   "id": "d7a1370d",
   "metadata": {},
   "outputs": [
    {
     "name": "stdout",
     "output_type": "stream",
     "text": [
      "      kicker_player_id  clutch_count   ev_diff       acc kicker_player_name\n",
      "55453       00-0038402           9.0  0.175968  0.156863          A.Carlson\n",
      "48524       00-0033138           7.0  0.136881  0.049451           S.Ficken\n",
      "29246       00-0023635          13.0  0.134192  0.154762           D.Rayner\n",
      "1923        00-0001343           7.0  0.129276  0.134146        C.Blanchard\n",
      "55958       00-0039172           6.0  0.127090  0.062500            J.Bates\n",
      "43437       00-0030390          22.0  0.109330  0.058021          C.Sturgis\n",
      "46634       00-0031718           9.0  0.107388  0.104348           A.Franks\n",
      "16683       00-0019490          35.0  0.107381  0.013548          P.Edinger\n",
      "48248       00-0032870          13.0  0.105789  0.129808            A.Rosas\n",
      "43149       00-0030332          18.0  0.075215 -0.017857            B.Maher\n",
      "      kicker_player_id  clutch_count   ev_diff       acc kicker_player_name\n",
      "55555       00-0038562           8.0 -0.345676 -0.495425            J.Moody\n",
      "5600        00-0004147          11.0 -0.151549 -0.254197         A.DelGreco\n",
      "37776       00-0028058          10.0 -0.140207 -0.170188           A.Henery\n",
      "37672       00-0027119           7.0 -0.133164 -0.368421          D.Buehler\n",
      "52647       00-0035192          40.0 -0.122812 -0.326942             J.Slye\n",
      "51215       00-0034173          19.0 -0.117090 -0.082612          E.Pineiro\n",
      "49232       00-0033702          32.0 -0.114313 -0.157216              Y.Koo\n",
      "11105       00-0011970          33.0 -0.102898 -0.252095           J.Nedney\n",
      "15006       00-0017693          39.0 -0.102885 -0.262018          J.Wilkins\n",
      "52369       00-0035145          10.0 -0.094455 -0.038760          A.Seibert\n"
     ]
    }
   ],
   "source": [
    "df_diff = df_diff.merge(df[['kicker_player_id', 'kicker_player_name']], how='left').drop_duplicates()\n",
    "df_diff = df_diff[df_diff['clutch_count'] > 5]\n",
    "print(df_diff.nlargest(10, 'ev_diff'))\n",
    "print(df_diff.nsmallest(10, 'ev_diff'))"
   ]
  },
  {
   "cell_type": "code",
   "execution_count": 19,
   "id": "3c1a8d16",
   "metadata": {},
   "outputs": [
    {
     "name": "stdout",
     "output_type": "stream",
     "text": [
      "       clutch_ev  clutch_count  clutchK_acc kicker_player_name\n",
      "55460   0.149088             6     1.000000            J.Bates\n",
      "1922    0.114024             7     1.000000        C.Blanchard\n",
      "16482   0.112311            35     0.882353          P.Edinger\n",
      "54955   0.110891             9     1.000000          A.Carlson\n",
      "28949   0.092065            13     1.000000           D.Rayner\n",
      "46232   0.085302             9     1.000000           A.Franks\n",
      "12054   0.073225            38     0.894737           M.Stover\n",
      "43068   0.072860            22     0.928571          C.Sturgis\n",
      "47832   0.070426            13     1.000000            A.Rosas\n",
      "12839   0.070159            35     0.857143       M.Vanderjagt\n",
      "       clutch_ev  clutch_count  clutchK_acc kicker_player_name\n",
      "55057  -0.372746             8     0.400000            J.Moody\n",
      "37334  -0.170653             7     0.500000          D.Buehler\n",
      "5483   -0.158250            11     0.666667         A.DelGreco\n",
      "8311   -0.156683            11     0.500000           M.Husted\n",
      "52194  -0.154586            40     0.529412             J.Slye\n",
      "37428  -0.151909            10     0.750000           A.Henery\n",
      "50795  -0.126287            19     0.818182          E.Pineiro\n",
      "51916  -0.123566            10     0.833333          A.Seibert\n",
      "11868  -0.120285            10     0.250000           W.Richey\n",
      "4171   -0.113973            14     0.625000           J.Cortez\n"
     ]
    }
   ],
   "source": [
    "df_clutch_player = df_clutch_player.merge(df[['kicker_player_id', 'kicker_player_name']], how='left').drop_duplicates()\n",
    "df_clutch_player = df_clutch_player[df_clutch_player['clutch_count'] > 5]\n",
    "df_clutch_player = df_clutch_player.drop(columns=['kicker_player_id', 'clutch_sum'])\n",
    "print(df_clutch_player.nlargest(10, 'clutch_ev'))\n",
    "print(df_clutch_player.nsmallest(10, 'clutch_ev'))"
   ]
  }
 ],
 "metadata": {
  "kernelspec": {
   "display_name": "base",
   "language": "python",
   "name": "python3"
  },
  "language_info": {
   "codemirror_mode": {
    "name": "ipython",
    "version": 3
   },
   "file_extension": ".py",
   "mimetype": "text/x-python",
   "name": "python",
   "nbconvert_exporter": "python",
   "pygments_lexer": "ipython3",
   "version": "3.12.7"
  }
 },
 "nbformat": 4,
 "nbformat_minor": 5
}
