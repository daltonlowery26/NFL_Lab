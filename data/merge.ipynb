{
 "cells": [
  {
   "cell_type": "markdown",
   "id": "52909979",
   "metadata": {},
   "source": [
    "#### merging and combining all data"
   ]
  },
  {
   "cell_type": "code",
   "execution_count": 6,
   "id": "6875e7ad",
   "metadata": {},
   "outputs": [],
   "source": [
    "import os\n",
    "import numpy as np\n",
    "import pandas as pd\n",
    "os.chdir('C:/Users/dalto/OneDrive/Pictures/Documents/Emory/NFL Lab/data/')"
   ]
  },
  {
   "cell_type": "code",
   "execution_count": 7,
   "id": "ec244f23",
   "metadata": {},
   "outputs": [],
   "source": [
    "all_weeks = []\n",
    "\n",
    "for root, dirs, files in os.walk('train/'):\n",
    "    week_files = {}\n",
    "    \n",
    "    for file in files:\n",
    "        if file.endswith('.csv'):\n",
    "            week_num = file.split('_')[-1].replace('.csv', '')\n",
    "            \n",
    "            if week_num not in week_files:\n",
    "                week_files[week_num] = {}\n",
    "            \n",
    "            file_path = os.path.join(root, file)\n",
    "            \n",
    "            if 'output' in file:\n",
    "                week_files[week_num]['output'] = file_path\n",
    "            else:\n",
    "                week_files[week_num]['input'] = file_path\n",
    "\n",
    "    # Process each week\n",
    "    for week_num, paths in week_files.items():\n",
    "        if 'input' in paths and 'output' in paths:\n",
    "            df = pd.read_csv(paths['input'])\n",
    "            df_throw = pd.read_csv(paths['output'])\n",
    "            \n",
    "            df['play_id_n'] = df.groupby(['ball_land_x', 'ball_land_y', 'play_id']).ngroup()\n",
    "            \n",
    "            max_frames = df.groupby(['game_id','play_id', 'nfl_id'])['frame_id'].max().reset_index()\n",
    "            max_frames.columns = ['game_id','play_id', 'nfl_id', 'max_frame_id']\n",
    "            \n",
    "            df_2_extended = df_throw.merge(max_frames, on=['game_id','play_id', 'nfl_id'], how='inner')\n",
    "            df_2_extended['frame_id'] = df_2_extended['frame_id'] + df_2_extended['max_frame_id']\n",
    "            \n",
    "            df_combined = pd.concat([df, df_2_extended], ignore_index=True, sort=False)\n",
    "            df_combined = df_combined.sort_values(['game_id', 'play_id', 'nfl_id', 'frame_id']).reset_index(drop=True).drop(columns=['max_frame_id'])\n",
    "            df_combined.to_csv(f'combined/{week_num}_2023.csv', index=False)\n"
   ]
  },
  {
   "cell_type": "code",
   "execution_count": null,
   "id": "84101cb4",
   "metadata": {},
   "outputs": [],
   "source": [
    "comb = pd.DataFrame()\n",
    "for root, dirs, files in os.walk('combined/'):\n",
    "    for file in files:\n",
    "        if file.endswith('.csv'):\n",
    "            file_path = os.path.join(root, file)\n",
    "            df_temp = pd.read_csv(file_path)\n",
    "            comb = pd.concat([comb, df_temp], ignore_index=True)\n"
   ]
  },
  {
   "cell_type": "code",
   "execution_count": null,
   "id": "42e3d31d",
   "metadata": {},
   "outputs": [
    {
     "name": "stderr",
     "output_type": "stream",
     "text": [
      "C:\\Users\\dalto\\AppData\\Local\\Temp\\ipykernel_23972\\2421750443.py:6: FutureWarning: Downcasting object dtype arrays on .fillna, .ffill, .bfill is deprecated and will change in a future version. Call result.infer_objects(copy=False) instead. To opt-in to the future behavior, set `pd.set_option('future.no_silent_downcasting', True)`\n",
      "  comb[col] = comb.groupby(['play_id', 'nfl_id'])[col].transform(lambda x: x.fillna(x.iloc[0] if x.notna().any() else np.nan))\n"
     ]
    }
   ],
   "source": [
    "missing_cols = ['player_height', 'player_weight', 'player_role', 'player_name', 'player_position','game_id', 'player_to_predict',\n",
    "                'play_direction', 'absolute_yardline_number', 'num_frames_output', 'ball_land_x', 'ball_land_y', 'player_side', 'play_id_n']\n",
    "\n",
    "for col in missing_cols:\n",
    "    if col in comb.columns:\n",
    "        comb[col] = comb.groupby(['play_id', 'nfl_id'])[col].transform(lambda x: x.fillna(x.iloc[0] if x.notna().any() else np.nan))"
   ]
  },
  {
   "cell_type": "code",
   "execution_count": null,
   "id": "5bc2c83a",
   "metadata": {},
   "outputs": [],
   "source": [
    "comb['play_id_n'] = comb.groupby(['ball_land_x', 'ball_land_y', 'play_id']).ngroup()\n",
    "comb.to_csv('2023_tracking.csv',index=False)"
   ]
  }
 ],
 "metadata": {
  "kernelspec": {
   "display_name": "nflLab",
   "language": "python",
   "name": "python3"
  },
  "language_info": {
   "codemirror_mode": {
    "name": "ipython",
    "version": 3
   },
   "file_extension": ".py",
   "mimetype": "text/x-python",
   "name": "python",
   "nbconvert_exporter": "python",
   "pygments_lexer": "ipython3",
   "version": "3.9.23"
  }
 },
 "nbformat": 4,
 "nbformat_minor": 5
}
