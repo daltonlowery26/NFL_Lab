{
 "cells": [
  {
   "cell_type": "markdown",
   "id": "7c901a66",
   "metadata": {},
   "source": [
    "### Predict DJ Moore Movement"
   ]
  },
  {
   "cell_type": "markdown",
   "id": "82524e6b",
   "metadata": {
    "vscode": {
     "languageId": "raw"
    }
   },
   "source": [
    "CNN to create a spatial repersentation of the context data\n",
    "\n",
    "Inject Context Embedding & Player Embeddings, early fusion for the player context \n",
    "and before the fully connected layer for the gloabl context. Use the CNN as a form of encoder, use a transpose CNN to find loss function"
   ]
  },
  {
   "cell_type": "code",
   "execution_count": 1,
   "id": "882c941d",
   "metadata": {},
   "outputs": [],
   "source": [
    "import pandas as pd\n",
    "import numpy as np\n",
    "import os\n",
    "import matplotlib.pyplot as plt\n",
    "\n",
    "os.chdir('C:/Users/dalto/OneDrive/Pictures/Documents/Emory/NFL Lab/data')\n",
    "df = pd.read_csv('2023_tracking.csv')\n",
    "df = df.dropna()"
   ]
  },
  {
   "cell_type": "code",
   "execution_count": 2,
   "id": "5960ee90",
   "metadata": {},
   "outputs": [],
   "source": [
    "play_ids = df['play_id_n'].unique()[:1500]\n",
    "df = df[df['play_id_n'].isin(play_ids)]"
   ]
  },
  {
   "cell_type": "markdown",
   "id": "eb3b0c43",
   "metadata": {},
   "source": [
    "#### 2d grid for cnn"
   ]
  },
  {
   "cell_type": "code",
   "execution_count": 3,
   "id": "c7bdcf7e",
   "metadata": {},
   "outputs": [],
   "source": [
    "def pixel_map(player_data, grid_width=121, grid_height=55, sigma=.8):\n",
    "    \n",
    "    # three channels, one for offense, one for defense, one for ball location, one for player to predict\n",
    "    pixel_map = np.zeros((4, grid_height, grid_width), dtype=np.float32)\n",
    "    \n",
    "    x_vals = player_data['x'].values\n",
    "    y_vals = player_data['y'].values\n",
    "    \n",
    "    for i, (x, y) in enumerate(zip(x_vals, y_vals)):\n",
    "        x_min = max(0, int(np.floor(x - 2*sigma)))\n",
    "        x_max = min(grid_width, int(np.ceil(x + 2*sigma)) + 1)\n",
    "        y_min = max(0, int(np.floor(y - 2*sigma)))\n",
    "        y_max = min(grid_height, int(np.ceil(y + 2*sigma)) + 1)\n",
    "        \n",
    "        for xi in range(x_min, x_max):\n",
    "            for yi in range(y_min, y_max):\n",
    "                dist_sq = (xi - x)**2 + (yi - y)**2\n",
    "                weight = np.exp(-dist_sq / (2 * sigma**2))\n",
    "                if player_data.iloc[i]['player_to_predict'] == True:\n",
    "                    pixel_map[2, yi, xi] += weight \n",
    "                elif player_data.iloc[i]['player_side'] == 'Offense':\n",
    "                    pixel_map[0, yi, xi] += weight\n",
    "                elif player_data.iloc[i]['player_side'] == 'Defense':\n",
    "                    pixel_map[1, yi, xi] += weight\n",
    "                \n",
    "    \n",
    "    ball_x = player_data['ball_land_x'].iloc[0]\n",
    "    ball_y = player_data['ball_land_y'].iloc[0]\n",
    "    \n",
    "    ball_x_min = max(0, int(np.floor(ball_x - 2*sigma)))\n",
    "    ball_x_max = min(grid_width, int(np.ceil(ball_x + 2*sigma)) + 1)\n",
    "    ball_y_min = max(0, int(np.floor(ball_y - 2*sigma)))\n",
    "    ball_y_max = min(grid_height, int(np.ceil(ball_y + 2*sigma)) + 1)\n",
    "    \n",
    "    for xi in range(ball_x_min, ball_x_max):\n",
    "        for yi in range(ball_y_min, ball_y_max):\n",
    "            dist_sq = (xi - ball_x)**2 + (yi - ball_y)**2\n",
    "            weight = np.exp(-dist_sq / (2 * sigma**2))\n",
    "            pixel_map[3, yi, xi] += weight\n",
    "    \n",
    "    return pixel_map"
   ]
  },
  {
   "cell_type": "markdown",
   "id": "5fdb8c7f",
   "metadata": {},
   "source": [
    "testing one play"
   ]
  },
  {
   "cell_type": "code",
   "execution_count": 109,
   "id": "a45368c4",
   "metadata": {},
   "outputs": [
    {
     "name": "stderr",
     "output_type": "stream",
     "text": [
      "C:\\Users\\dalto\\AppData\\Local\\Temp\\ipykernel_8904\\3215127569.py:2: FutureWarning: DataFrameGroupBy.apply operated on the grouping columns. This behavior is deprecated, and in a future version of pandas the grouping columns will be excluded from the operation. Either pass `include_groups=False` to exclude the groupings or explicitly select the grouping columns after groupby to silence this warning.\n",
      "  df_grids_t= df_play_id.groupby(['play_id_n','frame_id']).apply(lambda x: pd.Series({'grid': pixel_map(x)}))\n"
     ]
    }
   ],
   "source": [
    "df_play_id = df[df['play_id_n'] == 456]\n",
    "df_grids_t= df_play_id.groupby(['play_id_n','frame_id']).apply(lambda x: pd.Series({'grid': pixel_map(x)}))"
   ]
  },
  {
   "cell_type": "markdown",
   "id": "84373868",
   "metadata": {},
   "source": [
    "grid for all plays"
   ]
  },
  {
   "cell_type": "code",
   "execution_count": null,
   "id": "0fbb8477",
   "metadata": {},
   "outputs": [],
   "source": [
    "df_grids = df.groupby(['play_id_n','frame_id']).apply(lambda x: pd.Series({'grid': pixel_map(x)}))"
   ]
  },
  {
   "cell_type": "code",
   "execution_count": null,
   "id": "9189e025",
   "metadata": {},
   "outputs": [],
   "source": [
    "df_grids = df_grids.reset_index()\n",
    "df_grids = df_grids.sort_values(['play_id_n', 'frame_id'])"
   ]
  },
  {
   "cell_type": "markdown",
   "id": "8fe42dca",
   "metadata": {},
   "source": [
    "plot cords"
   ]
  },
  {
   "cell_type": "code",
   "execution_count": null,
   "id": "35e0b800",
   "metadata": {},
   "outputs": [
    {
     "data": {
      "image/png": "[encoded data removed]",
      "text/plain": [
       "<Figure size 1400x1000 with 4 Axes>"
      ]
     },
     "metadata": {},
     "output_type": "display_data"
    }
   ],
   "source": [
    "sample_grid = df_grids_t['grid'].iloc[4]\n",
    "\n",
    "fig, axes = plt.subplots(2, 2, figsize=(14, 10))\n",
    "\n",
    "axes[0, 0].imshow(sample_grid[0], origin='lower', cmap='Reds')\n",
    "axes[0, 0].set_title('Offense Players')\n",
    "axes[0, 0].set_xlabel('X (yards)')\n",
    "axes[0, 0].set_ylabel('Y (yards)')\n",
    "\n",
    "axes[0, 1].imshow(sample_grid[1], origin='lower', cmap='Blues')\n",
    "axes[0, 1].set_title('Defense Players')\n",
    "axes[0, 1].set_xlabel('X (yards)')\n",
    "axes[0, 1].set_ylabel('Y (yards)')\n",
    "\n",
    "axes[1, 0].imshow(sample_grid[2], origin='lower', cmap='Greens')\n",
    "axes[1, 0].set_title('Player to Predict')\n",
    "axes[1, 0].set_xlabel('X (yards)')\n",
    "axes[1, 0].set_ylabel('Y (yards)')\n",
    "\n",
    "axes[1, 1].imshow(sample_grid[3], origin='lower', cmap='Purples')\n",
    "axes[1, 1].set_title('Ball Landing Location')\n",
    "axes[1, 1].set_xlabel('X (yards)')\n",
    "axes[1, 1].set_ylabel('Y (yards)')\n",
    "\n",
    "plt.tight_layout()\n",
    "plt.show()\n"
   ]
  },
  {
   "cell_type": "code",
   "execution_count": null,
   "id": "c3e99f11",
   "metadata": {},
   "outputs": [],
   "source": [
    "df_grids.to_pickle(\"grids_1500.pkl\")"
   ]
  },
  {
   "cell_type": "markdown",
   "id": "d47c3875",
   "metadata": {},
   "source": [
    "#### CNN, Transformer"
   ]
  },
  {
   "cell_type": "markdown",
   "id": "adae6a33",
   "metadata": {},
   "source": [
    "Create cnn, transformer encoder, and decoder to predict positon. At this point, we do not need to build a complex decoder it can just be a feedforward linear network. "
   ]
  },
  {
   "cell_type": "code",
   "execution_count": null,
   "id": "1cc55cbb",
   "metadata": {},
   "outputs": [
    {
     "name": "stderr",
     "output_type": "stream",
     "text": [
      "c:\\Users\\dalto\\anaconda3\\envs\\nflLab\\lib\\site-packages\\tqdm\\auto.py:21: TqdmWarning: IProgress not found. Please update jupyter and ipywidgets. See https://ipywidgets.readthedocs.io/en/stable/user_install.html\n",
      "  from .autonotebook import tqdm as notebook_tqdm\n"
     ]
    },
    {
     "data": {
      "text/plain": [
       "<torch._C.Generator at 0x1eb252ff450>"
      ]
     },
     "execution_count": 2,
     "metadata": {},
     "output_type": "execute_result"
    }
   ],
   "source": [
    "import torch\n",
    "import torch.nn as nn \n",
    "from torch.utils.data import DataLoader, TensorDataset\n",
    "import torch.nn.functional as F\n",
    "from sklearn.model_selection import train_test_split\n",
    "import gc\n",
    "from transformers import get_cosine_schedule_with_warmup\n",
    "df_grids = pd.read_pickle(\"grids_1500.pkl\")\n",
    "torch.manual_seed(26)"
   ]
  },
  {
   "cell_type": "markdown",
   "id": "7c6635c9",
   "metadata": {},
   "source": [
    "cnn to downsample heatmap"
   ]
  },
  {
   "cell_type": "code",
   "execution_count": 18,
   "id": "e8d6455d",
   "metadata": {},
   "outputs": [],
   "source": [
    "class CNN_DownSample(nn.Module):\n",
    "    def __init__(self):\n",
    "        super().__init__()\n",
    "        # using stride rather than max pooling preforms better as max pooling tends to compress feat. too much.\n",
    "        self.heatmap_encoder = nn.Sequential(\n",
    "            nn.Conv2d(in_channels=4, out_channels=16, kernel_size=3, stride = 2, padding=1),\n",
    "            nn.BatchNorm2d(16), # normalize var and mean\n",
    "            nn.ReLU(inplace=True), # preforms better on average idk if itll make a difference in this application\n",
    "\n",
    "            nn.Conv2d(in_channels=16, out_channels=32, kernel_size=3, stride = 2, padding=1),\n",
    "            nn.BatchNorm2d(32),\n",
    "            nn.ReLU(inplace=True),\n",
    "\n",
    "            nn.Conv2d(in_channels=32, out_channels=64, kernel_size=3, stride = 2, padding=1),\n",
    "            nn.BatchNorm2d(64),\n",
    "            nn.ReLU(inplace=True)\n",
    "        )\n",
    "        \n",
    "    def forward(self, x):\n",
    "        x = self.heatmap_encoder(x)\n",
    "        return x\n",
    "    "
   ]
  },
  {
   "cell_type": "markdown",
   "id": "6f884d25",
   "metadata": {},
   "source": [
    "attention layer"
   ]
  },
  {
   "cell_type": "code",
   "execution_count": null,
   "id": "1b4da6b9",
   "metadata": {},
   "outputs": [],
   "source": [
    "class MultiHeadAttention(nn.Module):\n",
    "    def __init__(self, d_model, nhead, mask, dropout=0.15):\n",
    "        super().__init__() # inhert from parent class\n",
    "        \n",
    "        if d_model % nhead != 0:\n",
    "            raise ValueError(f\"d_model ({d_model}) must be divisible by nhead ({nhead})\")\n",
    "            \n",
    "        self.d_model = d_model # dimension of model\n",
    "        self.nhead = nhead # number of attention heads, multi headed \n",
    "        self.head_dim = d_model // nhead \n",
    "\n",
    "        # create key query and values\n",
    "        self.qkv_proj = nn.Linear(d_model, 3 * d_model)\n",
    "        # learn context as a product of the attention heads\n",
    "        self.out_proj = nn.Linear(d_model, d_model)\n",
    "        # dropout as a form of regularzation\n",
    "        self.dropout = nn.Dropout(dropout)\n",
    "        # scaling function\n",
    "        self.scale = self.head_dim ** -0.5\n",
    "\n",
    "    def forward(self, x, mask=None):\n",
    "        B, L, _ = x.shape # batch and length\n",
    "        \n",
    "        # create q, k, v values | init just random matrix mults, learned parameter\n",
    "        qkv = self.qkv_proj(x)\n",
    "        \n",
    "        # split key, query, and value vectors into diff pares\n",
    "        q, k, v = qkv.chunk(3, dim=-1)\n",
    "        \n",
    "        # transpose the matrix so that batch and nhead are treated as batches and self attention is calculated from there\n",
    "        q = q.view(B, L, self.nhead, self.head_dim).transpose(1, 2)\n",
    "        k = k.view(B, L, self.nhead, self.head_dim).transpose(1, 2)\n",
    "        v = v.view(B, L, self.nhead, self.head_dim).transpose(1, 2)\n",
    "    \n",
    "        # scaled dot product, scale so values arent 0 or 1 \n",
    "        scores = torch.matmul(q, k.transpose(-2, -1)) * self.scale # matrix mult\n",
    "        \n",
    "        # set masked values to -inf so softmax does not \"give\" attention to them\n",
    "        if mask is not None:\n",
    "            mask = mask.unsqueeze(1).unsqueeze(1) \n",
    "            mask = mask.expand(B, self.nhead, L, L) \n",
    "            scores = scores.masked_fill(mask == 0, -1e9)\n",
    "            \n",
    "            \n",
    "        # softmax to give attention weights to each token\n",
    "        attn_weights = torch.softmax(scores, dim=-1)\n",
    "        \n",
    "        # drop some weights \n",
    "        attn_weights = self.dropout(attn_weights)\n",
    "        \n",
    "        # context vector for a given input sequence\n",
    "        context = torch.matmul(attn_weights, v) \n",
    "        \n",
    "        # transpose so the matrix is in the correct size to be concatinated\n",
    "        context = context.transpose(1, 2).contiguous().view(B, L, self.d_model)\n",
    "        \n",
    "        # \"combine\" the outputs from the head to one general vector\n",
    "        output = self.out_proj(context)\n",
    "        \n",
    "        return output"
   ]
  },
  {
   "cell_type": "markdown",
   "id": "ee94df07",
   "metadata": {},
   "source": [
    "transformer block"
   ]
  },
  {
   "cell_type": "code",
   "execution_count": null,
   "id": "445638fb",
   "metadata": {},
   "outputs": [],
   "source": [
    "class TransformerBlock(nn.Module):\n",
    "    def __init__(self, d_model, nhead=6, mask=None, dropout=0.15):\n",
    "        super(TransformerBlock, self).__init__()\n",
    "        # self attention class definied above\n",
    "        self.self_attn = MultiHeadAttention(d_model=d_model, nhead=nhead, dropout=dropout, mask=mask)\n",
    "        \n",
    "        # feed forward network for each token\n",
    "        self.feed_forward = nn.Sequential(\n",
    "            nn.Linear(64, 128),\n",
    "            nn.LeakyReLU(),\n",
    "            nn.Dropout(dropout), # to combat overfitting\n",
    "            nn.Linear(128, 64)\n",
    "        )\n",
    "\n",
    "        # normilzations so values are between 0-1, learned gamma and beta parameters\n",
    "        # to shift center and var for values.\n",
    "        self.norm1 = nn.LayerNorm(d_model)\n",
    "        self.norm2 = nn.LayerNorm(d_model)\n",
    "        \n",
    "        # standard dropout\n",
    "        self.dropout = nn.Dropout(dropout)\n",
    "\n",
    "    def forward(self, x, mask):\n",
    "        residual = x\n",
    "        # normalized pre attention layer, gradients flow black directly without the normalizing effecting x values\n",
    "        norm_x = self.norm1(x)\n",
    "        # self attention\n",
    "        attn_output = self.self_attn(norm_x, mask)\n",
    "        # adding residual back to self attention\n",
    "        x = residual + self.dropout(attn_output)\n",
    "        \n",
    "        residual = x\n",
    "        # normalize values\n",
    "        # we do so because over the amount of layers scale can get distorted, lead to super big or small values\n",
    "        norm_x = self.norm2(x) \n",
    "        # basic fcn\n",
    "        ff_output = self.feed_forward(norm_x)\n",
    "        # adding residual back so that the gradient can flow directly back.\n",
    "        # adds a 1 + terms to gradients, helps solve the vanishing gradients problem\n",
    "        x = residual + self.dropout(ff_output)\n",
    "        \n",
    "        return x"
   ]
  },
  {
   "cell_type": "code",
   "execution_count": null,
   "id": "fb6e6e4c",
   "metadata": {},
   "outputs": [],
   "source": [
    "# use sinusoidal functions, simpler than learned values and generalizes better to unseen parameters\n",
    "class PositionalEncoding(nn.Module):\n",
    "    def __init__(self, embed_size, dropout, max_length=5000):\n",
    "        super(PositionalEncoding, self).__init__()\n",
    "        # droput\n",
    "        self.dropout = nn.Dropout(p=dropout)\n",
    "\n",
    "        # create matrix\n",
    "        pe = torch.zeros(max_length, embed_size)\n",
    "        \n",
    "        # position tensor shape\n",
    "        position = torch.arange(0, max_length, dtype=torch.float).unsqueeze(1)\n",
    "        \n",
    "        # div_term tensor shape\n",
    "        div_term = torch.exp(torch.arange(0, embed_size, 2).float() * (-torch.log(torch.tensor(10000.0)) / embed_size))\n",
    "        \n",
    "        # apply sin to even indices\n",
    "        pe[:, 0::2] = torch.sin(position * div_term)\n",
    "        # apply cos to odd indices\n",
    "        if embed_size % 2 == 1:\n",
    "            pe[:, 1::2] = torch.cos(position * div_term[:-1])\n",
    "        else:\n",
    "            pe[:, 1::2] = torch.cos(position * div_term)\n",
    "        \n",
    "        # register as buffer so it moves with model to device\n",
    "        self.register_buffer('pe', pe)\n",
    "\n",
    "    def forward(self, x):\n",
    "        pe_slice = self.pe[:x.size(1), :].to(x.device)\n",
    "        x = x + pe_slice\n",
    "        return self.dropout(x)\n",
    "\n",
    "class TransEncoder(nn.Module):\n",
    "    def __init__(self, input_dim, embed_size, num_layers, device, dropout, mask, max_length):\n",
    "        super(TransEncoder, self).__init__()\n",
    "        self.embed_size = embed_size \n",
    "        self.device = device\n",
    "        # learned matrix projection\n",
    "        self.input_projection = nn.Linear(input_dim, embed_size)\n",
    "        # postional encoding \n",
    "        self.position_encoding = PositionalEncoding(embed_size, dropout, max_length)\n",
    "        # layers of model, just stacked encoding layer\n",
    "        self.layers = nn.ModuleList(\n",
    "            [\n",
    "                TransformerBlock(\n",
    "                    embed_size,\n",
    "                    mask=mask,\n",
    "                    nhead=6, # number of attention heads\n",
    "                    dropout=dropout\n",
    "                )\n",
    "                for _ in range(num_layers)\n",
    "            ]\n",
    "        )\n",
    "\n",
    "    def forward(self, x, mask):\n",
    "        # input layer matrix mult\n",
    "        projected_input = self.input_projection(x)\n",
    "        # position encodings\n",
    "        out = self.position_encoding(projected_input)\n",
    "        # pass through transformer block\n",
    "        for layer in self.layers:\n",
    "            out = layer(out, mask)\n",
    "\n",
    "        return out"
   ]
  },
  {
   "cell_type": "markdown",
   "id": "6ae5cc18",
   "metadata": {},
   "source": [
    "\n",
    "postion decoder"
   ]
  },
  {
   "cell_type": "code",
   "execution_count": null,
   "id": "32e6c2aa",
   "metadata": {},
   "outputs": [],
   "source": [
    "class AdditiveAttentionPooling(nn.Module):\n",
    "    def __init__(self, embed_size):\n",
    "        super().__init__()\n",
    "        # learned pooling, apply diffrent weights to diff frames\n",
    "        self.attention = nn.Sequential(\n",
    "            nn.Linear(64, 128),\n",
    "            nn.Tanh(), # over relu because between -1, 1 and is more stable\n",
    "            nn.Linear(128, 1)\n",
    "        )\n",
    "    \n",
    "    def forward(self, x):\n",
    "        # raw attention weights \n",
    "        attn_scores = self.attention(x) \n",
    "        # softmax and normalize\n",
    "        attn_weights = torch.softmax(attn_scores, dim=1) \n",
    "        # frame values based on attention weights\n",
    "        pooled = torch.sum(x * attn_weights, dim=1) \n",
    "        # return back to matrix \n",
    "        return pooled, attn_weights.squeeze(-1) "
   ]
  },
  {
   "cell_type": "code",
   "execution_count": null,
   "id": "2c59a366",
   "metadata": {},
   "outputs": [],
   "source": [
    "class PositionDecoder(nn.Module):\n",
    "    def __init__(self, dropout=0.15):\n",
    "        super(PositionDecoder, self).__init__()\n",
    "        # addaptive pooling, learn the importances of diffrent frames, \n",
    "        self.global_pool = AdditiveAttentionPooling(embed_size=64)\n",
    "        # fcnn in funnel shape, prob need to adjust this when actually training\n",
    "        self.decoder = nn.Sequential(\n",
    "            nn.Linear(64, 256),\n",
    "            nn.BatchNorm1d(256),\n",
    "            nn.ReLU(inplace=True),\n",
    "            nn.Dropout(dropout * 1.5),\n",
    "\n",
    "            nn.Linear(256, 128),\n",
    "            nn.BatchNorm1d(128),\n",
    "            nn.ReLU(inplace=True),\n",
    "            nn.Dropout(dropout),\n",
    "\n",
    "            nn.Linear(128, 64),\n",
    "            nn.BatchNorm1d(64),\n",
    "            nn.ReLU(inplace=True),\n",
    "            nn.Dropout(dropout * .5),\n",
    "\n",
    "            nn.Linear(64, 2)\n",
    "        )\n",
    "    \n",
    "    def forward(self, encoded_sequence):\n",
    "        # pooling across all steps in input sequence\n",
    "        pooled, _ = self.global_pool(encoded_sequence) \n",
    "        # predict final position\n",
    "        position = self.decoder(pooled) \n",
    "        \n",
    "        return position"
   ]
  },
  {
   "cell_type": "code",
   "execution_count": null,
   "id": "2d2976f7",
   "metadata": {},
   "outputs": [],
   "source": [
    "class DJmoorePOS(nn.Module):\n",
    "    def __init__(self, embed_size, num_layers, dropout, mask, dev='cuda'):\n",
    "        super().__init__()\n",
    "        # downsample cnn\n",
    "        self.cnn = CNN_DownSample()\n",
    "        # cnn output size\n",
    "        cnn_output_size = 64 * 7 * 16\n",
    "        # transformer encoder module\n",
    "        self.encoder = TransEncoder(\n",
    "            input_dim=cnn_output_size,\n",
    "            embed_size=embed_size,\n",
    "            num_layers=num_layers,\n",
    "            device=dev,\n",
    "            mask=mask,\n",
    "            dropout=dropout,\n",
    "            max_length=100\n",
    "        )\n",
    "        # decoder, predict output\n",
    "        self.decoder = PositionDecoder(dropout=dropout)\n",
    "    def forward(self, heatmap_sequence):\n",
    "        # batch size, seq\n",
    "        batch_size, seq_len = heatmap_sequence.shape[:2]\n",
    "        # downsample each heatmap through the cnn\n",
    "        cnn_features = []\n",
    "        for t in range(seq_len):\n",
    "            # select all rows and the t col\n",
    "            frame = heatmap_sequence[:, t]\n",
    "            # extract features from cnn\n",
    "            features = self.cnn(frame)\n",
    "            # keep 0dim, flatten all other features (mult) together\n",
    "            features = features.flatten(1)\n",
    "            # save extracted features\n",
    "            cnn_features.append(features)\n",
    "        # stack extracted features into a sequence\n",
    "        sequence_features = torch.stack(cnn_features, dim=1)\n",
    "        # attention mask, not needed for now because we are \n",
    "        # only prediciting the one frame\n",
    "        mask = torch.ones(batch_size, seq_len, device=heatmap_sequence.device)\n",
    "        # encoding sequence\n",
    "        encoder = self.encoder(sequence_features, mask)\n",
    "        # predict positon\n",
    "        position = self.decoder(encoder)\n",
    "        # return position\n",
    "        return position\n"
   ]
  },
  {
   "cell_type": "code",
   "execution_count": null,
   "id": "47e8bfe0",
   "metadata": {},
   "outputs": [],
   "source": [
    "def train_sequences(df_grids, max_seq):\n",
    "    sequences = []\n",
    "    targets = []\n",
    "    \n",
    "    # get players to predict postions\n",
    "    player_positions = df[df['play_to_predict'] == 'True'][['play_id_n', 'frame_id', 'x', 'y']].set_index(['play_id_n', 'frame_id'])\n",
    "\n",
    "    # loop through every play\n",
    "    for play_id in df_grids['play_id_n'].unique():\n",
    "        play_data = df_grids[df_grids['play_id_n'] == play_id].sort_values('frame_id')\n",
    "            # padding with sequence length less than max\n",
    "        if len(play_data) < max_seq:\n",
    "            grids = [torch.from_numpy(grid).float() for grid in play_data['grid']]\n",
    "            sequence = torch.stack(grids, dim=0)\n",
    "            \n",
    "            noise = torch.randn_like(sequence) * 0.0001\n",
    "            sequence = sequence + noise\n",
    "            \n",
    "            # out of dist value\n",
    "            padding_needed = max_seq - len(play_data)\n",
    "            padding = torch.full((padding_needed, 4, 55, 121), -1.0)\n",
    "            sequence = torch.cat([sequence, padding], dim=0)\n",
    "            \n",
    "            # dj moore target frame, last frame\n",
    "            target_frame = play_data.iloc[-1]['frame_id']\n",
    "            try:\n",
    "                player_pos = player_positions.loc[(play_id, target_frame), ['x', 'y']]\n",
    "                player_x = float(player_pos['x']) / 120\n",
    "                player_y = float(player_pos['y']) / 53.3\n",
    "                sequences.append(sequence)\n",
    "                targets.append(torch.tensor([player_x, player_y], dtype=torch.float32))\n",
    "            except KeyError:\n",
    "                continue\n",
    "\n",
    "    if len(sequences) == 0:\n",
    "        return None, None\n",
    "    \n",
    "    sequences = torch.stack(sequences, dim = 0)\n",
    "    targets = torch.stack(targets, dim = 0)\n",
    "    return sequences, targets"
   ]
  },
  {
   "cell_type": "code",
   "execution_count": null,
   "id": "196fa149",
   "metadata": {},
   "outputs": [],
   "source": [
    "# training loop\n",
    "def train(model, train_loader, val_loader, loss_func, optimizer, scheduler, epochs):\n",
    "    # losses\n",
    "    train_losses = []\n",
    "    # early stopping\n",
    "    es = np.inf\n",
    "    es_count = 0\n",
    "    # training rounds\n",
    "    for epoch in range(epochs):\n",
    "        # set to traing mode\n",
    "        model.train()\n",
    "        # loss and batch count\n",
    "        epoch_loss = 0\n",
    "        batches = 0\n",
    "        # load training sequences and targets\n",
    "        for batch_sequence, batch_targets in train_loader:\n",
    "            batch_sequence = batch_sequence.to('cuda')\n",
    "            batch_targets = batch_targets.to('cuda')\n",
    "            # zero gradient\n",
    "            optimizer.zero_grad()\n",
    "            # forward pass\n",
    "            preds = model(batch_sequence) # predicted value\n",
    "            loss = loss_func(preds, batch_targets) # loss\n",
    "            # backprop time (as an aside its so cool it works so effectively being a realtively simple concept)\n",
    "            loss.backward()\n",
    "            torch.nn.utils.clip_grad_norm_(model.parameters(), max_norm=1) # prevent exploding gradients\n",
    "            optimizer.step()\n",
    "\n",
    "            # batch loss calcs\n",
    "            epoch_loss += loss.item() * batch_sequence.size(0)\n",
    "            batches += batch_sequence.size(0)\n",
    "\n",
    "        # epoch loss on train set\n",
    "        avg_loss = epoch_loss / batches\n",
    "\n",
    "        val_loss = 0\n",
    "        val_batches = 0\n",
    "\n",
    "        # val loss\n",
    "        model.eval() # set to eval mode\n",
    "        with torch.no_grad(): \n",
    "            for val_seq, val_targ in val_loader:\n",
    "                # move to cuda\n",
    "                val_seq = val_seq.to('cuda')\n",
    "                val_targ = val_targ.to('cuda')\n",
    "                # val_x, val_y\n",
    "                val_preds = model(val_seq)\n",
    "                # val loss\n",
    "                val_seq_loss = loss_func(val_preds, val_targ)\n",
    "                val_loss += val_seq_loss.item() * val_seq.size(0) \n",
    "                val_batches += val_seq.size(0)\n",
    "        # loss \n",
    "        val_loss = val_loss / val_batches\n",
    "\n",
    "        # early stopping\n",
    "        if val_loss < es:\n",
    "            es = val_loss\n",
    "            es_count = 0\n",
    "        else:\n",
    "            es_count += 1\n",
    "\n",
    "        # save train loss, update LR \n",
    "        train_losses.append(avg_loss)\n",
    "        scheduler.step(val_loss)\n",
    "\n",
    "        if epoch % 5 == 0:\n",
    "            print(f'epoch: {epoch} train_loss: {avg_loss} val_loss:{val_loss}')\n",
    "        \n",
    "        if es_count >= 25:\n",
    "            break\n",
    "\n",
    "    return train_losses\n",
    "\n",
    "# predict final positon\n",
    "def predict(model, sequence):\n",
    "    # torch eval mode\n",
    "    model.eval()\n",
    "    # do not compute gradients\n",
    "    with torch.no_grad():\n",
    "        # adds dim if batch dim is not present\n",
    "        if sequence.dim() == 4: \n",
    "            sequence = sequence.unsqueeze(0)\n",
    "        # move to gpu\n",
    "        sequence = sequence.to('cuda')\n",
    "        # prediction\n",
    "        prediction = model(sequence)\n",
    "        x, y = prediction[0].cpu().numpy() # move to cpu, convert from tesnor to numpy \n",
    "        # undo scaling\n",
    "        # x = x * 120\n",
    "        # y = y * 53.3\n",
    "    \n",
    "    return x, y"
   ]
  },
  {
   "cell_type": "markdown",
   "id": "2e530786",
   "metadata": {},
   "source": [
    "#### Training"
   ]
  },
  {
   "cell_type": "code",
   "execution_count": 49,
   "id": "312616b6",
   "metadata": {},
   "outputs": [
    {
     "name": "stdout",
     "output_type": "stream",
     "text": [
      "True\n"
     ]
    },
    {
     "data": {
      "text/plain": [
       "4104"
      ]
     },
     "execution_count": 49,
     "metadata": {},
     "output_type": "execute_result"
    }
   ],
   "source": [
    "print(torch.cuda.is_available())\n",
    "torch.cuda.empty_cache()\n",
    "gc.collect()"
   ]
  },
  {
   "cell_type": "code",
   "execution_count": 45,
   "id": "ff13a655",
   "metadata": {},
   "outputs": [],
   "source": [
    "import torch.nn.functional as F\n",
    "\n",
    "class VarianceRegularizedLoss(nn.Module):\n",
    "    def __init__(self, alpha=1.0, beta=0.1):\n",
    "        super().__init__()\n",
    "        self.alpha = alpha  \n",
    "        self.beta = beta    \n",
    "        \n",
    "    def forward(self, predictions, targets):\n",
    "        # mse loss\n",
    "        mse_loss = F.mse_loss(predictions, targets)\n",
    "        \n",
    "        # match the varience between predection and target\n",
    "        pred_var = torch.var(predictions, dim=0)\n",
    "        target_var = torch.var(targets, dim=0)\n",
    "        \n",
    "        # penalize low varience in results \n",
    "        variance_penalty = F.mse_loss(pred_var, target_var)\n",
    "        \n",
    "        return self.alpha * mse_loss + self.beta * variance_penalty"
   ]
  },
  {
   "cell_type": "code",
   "execution_count": null,
   "id": "5c3b9f00",
   "metadata": {},
   "outputs": [],
   "source": [
    "model = DJmoorePOS(embed_size=64, num_layers=8, mask=None, dropout=0.15, dev=\"cuda\")\n",
    "# move model to cuda\n",
    "model = model.to(\"cuda\")\n",
    "# standard loss function\n",
    "loss_fun = VarianceRegularizedLoss(alpha=1, beta=0.15)\n",
    "# adamW > adam, bc of the proper application of weight decay\n",
    "opti = torch.optim.AdamW(model.parameters(), lr = 0.0001, weight_decay=0.001)\n",
    "# LR scheduler\n",
    "lr_schedule =  get_cosine_schedule_with_warmup(opti, num_warmup_steps=20, num_training_steps=500)"
   ]
  },
  {
   "cell_type": "code",
   "execution_count": null,
   "id": "09bfa171",
   "metadata": {},
   "outputs": [],
   "source": [
    "seq, targ = train_sequences(df_grids, max_seq=81) \n",
    "\n",
    "X_train, X_test, y_train, y_test = train_test_split(seq, targ, test_size=0.3, random_state=26,shuffle=True)\n",
    "X_test, X_val, y_test, y_val = train_test_split(X_test, y_test, test_size=0.5, random_state=26, shuffle = True)\n",
    "\n",
    "train_dataset = TensorDataset(X_train, y_train)\n",
    "test_dataset = TensorDataset(X_test, y_test)\n",
    "val_dataset = TensorDataset(X_val, y_val)\n",
    "\n",
    "train_load = DataLoader(train_dataset, batch_size = 64, shuffle=True, drop_last=True)\n",
    "test_loader = DataLoader(test_dataset, batch_size = 64, shuffle=False)\n",
    "val_loader = DataLoader(val_dataset, batch_size = 64, shuffle=False)"
   ]
  },
  {
   "cell_type": "code",
   "execution_count": 47,
   "id": "d3d2221c",
   "metadata": {},
   "outputs": [],
   "source": [
    "# test to make sure working properly\n",
    "test = seq[1]\n",
    "pred_x, pred_y = predict(model, test)"
   ]
  },
  {
   "cell_type": "code",
   "execution_count": null,
   "id": "05075be1",
   "metadata": {},
   "outputs": [],
   "source": [
    "train(model=model, train_loader=train_load, val_loader = val_loader, \n",
    "      loss_func=loss_fun, optimizer=opti,scheduler=lr_schedule, epochs=500)"
   ]
  },
  {
   "cell_type": "code",
   "execution_count": 18,
   "id": "4085cfad",
   "metadata": {},
   "outputs": [],
   "source": [
    "def eval_loop(model, test_loader, loss_fun):\n",
    "    model.eval()\n",
    "    total_loss = 0\n",
    "    total_sample = 0\n",
    "    all_pred = []\n",
    "    all_target = []\n",
    "    \n",
    "    with torch.no_grad():\n",
    "        for batch_seq, batch_targ in test_loader:\n",
    "            batch_seq = batch_seq.to('cuda')\n",
    "            batch_targ = batch_targ.to('cuda')\n",
    "\n",
    "            preds = model(batch_seq)\n",
    "            loss = loss_fun(preds, batch_targ)\n",
    "\n",
    "            total_loss += loss.item() * batch_seq.size(0) \n",
    "            total_sample += batch_seq.size(0)\n",
    "            \n",
    "            all_pred.append(preds.cpu())\n",
    "            all_target.append(batch_targ.cpu())\n",
    "\n",
    "    avg_test_loss = total_loss / total_sample\n",
    "    all_pred = torch.cat(all_pred, dim = 0)\n",
    "    all_target = torch.cat(all_target, dim=0)\n",
    "\n",
    "    return avg_test_loss, all_pred, all_target"
   ]
  },
  {
   "cell_type": "code",
   "execution_count": 20,
   "id": "26602725",
   "metadata": {},
   "outputs": [
    {
     "name": "stdout",
     "output_type": "stream",
     "text": [
      "14.947563098027157\n"
     ]
    }
   ],
   "source": [
    "loss, pred, target = eval_loop(model=model, test_loader=test_loader, loss_fun=loss_fun)\n",
    "print(loss)"
   ]
  }
 ],
 "metadata": {
  "kernelspec": {
   "display_name": "nflLab",
   "language": "python",
   "name": "python3"
  },
  "language_info": {
   "codemirror_mode": {
    "name": "ipython",
    "version": 3
   },
   "file_extension": ".py",
   "mimetype": "text/x-python",
   "name": "python",
   "nbconvert_exporter": "python",
   "pygments_lexer": "ipython3",
   "version": "3.9.23"
  }
 },
 "nbformat": 4,
 "nbformat_minor": 5
}
