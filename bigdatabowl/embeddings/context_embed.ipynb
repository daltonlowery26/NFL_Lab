{
 "cells": [
  {
   "cell_type": "markdown",
   "id": "5fdf443a",
   "metadata": {},
   "source": [
    "### creating embeddings for player context"
   ]
  },
  {
   "cell_type": "markdown",
   "id": "86b9ffca",
   "metadata": {},
   "source": [
    "based on predicting player postion using a sequential model"
   ]
  },
  {
   "cell_type": "code",
   "execution_count": 1,
   "id": "5b545be0",
   "metadata": {},
   "outputs": [],
   "source": [
    "import pandas as pd \n",
    "import numpy as np\n",
    "import os\n",
    "import torch\n",
    "import torch.nn as nn\n",
    "from torch.utils.data import TensorDataset, DataLoader\n",
    "from sklearn.linear_model import LinearRegression\n",
    "from sklearn.metrics import r2_score\n",
    "from sklearn.manifold import TSNE\n",
    "import matplotlib.pyplot as plt\n",
    "import random\n",
    "\n",
    "os.chdir('C:/Users/dalto/OneDrive/Pictures/Documents/Emory/NFL Lab/')"
   ]
  },
  {
   "cell_type": "code",
   "execution_count": 2,
   "id": "b0c59ebd",
   "metadata": {},
   "outputs": [],
   "source": [
    "df = pd.read_csv('data/input_2023_w07.csv')\n",
    "df_throw = pd.read_csv('data/output_2023_w07.csv')"
   ]
  },
  {
   "cell_type": "code",
   "execution_count": 3,
   "id": "e98db3fb",
   "metadata": {},
   "outputs": [],
   "source": [
    "df['play_id_n'] = df.groupby(['ball_land_x', 'ball_land_y', 'play_id']).ngroup()"
   ]
  },
  {
   "cell_type": "code",
   "execution_count": 4,
   "id": "fe052fdc",
   "metadata": {},
   "outputs": [],
   "source": [
    "max_frames = df.groupby(['play_id', 'nfl_id'])['frame_id'].max().reset_index()\n",
    "max_frames.columns = ['play_id', 'nfl_id', 'max_frame_id']\n",
    "df_2_extended = df_throw.merge(max_frames, on=['play_id', 'nfl_id'], how='inner')\n",
    "\n",
    "df_2_extended['frame_id'] = df_2_extended['frame_id'] + df_2_extended['max_frame_id']\n",
    "\n",
    "common_cols = ['nfl_id', 'play_id', 'frame_id', 'x', 'y']\n",
    "df_2_subset = df_2_extended[common_cols]\n",
    "\n",
    "df_combined = pd.concat([df, df_2_subset], ignore_index=True)\n",
    "df_combined = df_combined.sort_values(['play_id', 'nfl_id', 'frame_id']).reset_index(drop=True)"
   ]
  },
  {
   "cell_type": "code",
   "execution_count": 5,
   "id": "7034fe45",
   "metadata": {},
   "outputs": [],
   "source": [
    "df_combined.drop(columns=['s', 'a', 'dir', 'o', 'player_birth_date'], inplace=True)"
   ]
  },
  {
   "cell_type": "code",
   "execution_count": 6,
   "id": "7ae1a931",
   "metadata": {},
   "outputs": [
    {
     "name": "stderr",
     "output_type": "stream",
     "text": [
      "C:\\Users\\dalto\\AppData\\Local\\Temp\\ipykernel_14916\\4202551376.py:6: FutureWarning: Downcasting object dtype arrays on .fillna, .ffill, .bfill is deprecated and will change in a future version. Call result.infer_objects(copy=False) instead. To opt-in to the future behavior, set `pd.set_option('future.no_silent_downcasting', True)`\n",
      "  df_combined[col] = df_combined.groupby(['play_id', 'nfl_id'])[col].transform(lambda x: x.fillna(x.iloc[0] if x.notna().any() else np.nan))\n"
     ]
    }
   ],
   "source": [
    "missing_cols = ['player_height', 'player_weight', 'player_role', 'player_name', 'player_position','game_id', 'player_to_predict',\n",
    "                'play_direction', 'absolute_yardline_number', 'num_frames_output', 'ball_land_x', 'ball_land_y', 'player_side', 'play_id_n']\n",
    "\n",
    "for col in missing_cols:\n",
    "    if col in df_combined.columns:\n",
    "        df_combined[col] = df_combined.groupby(['play_id', 'nfl_id'])[col].transform(lambda x: x.fillna(x.iloc[0] if x.notna().any() else np.nan))"
   ]
  },
  {
   "cell_type": "markdown",
   "id": "7d8057e8",
   "metadata": {},
   "source": [
    "context for a certian play includes distance to go, qbs average tedencies which also are reflected in the teams average tendencies, time left in qtr "
   ]
  },
  {
   "cell_type": "code",
   "execution_count": 7,
   "id": "2be39264",
   "metadata": {},
   "outputs": [],
   "source": [
    "context = df[['play_direction', 'absolute_yardline_number', 'ball_land_x', 'ball_land_y', 'play_id_n', 'num_frames_output']].drop_duplicates()\n",
    "qb_id = df[['play_id_n', 'player_name', 'player_position', 'nfl_id']]\n",
    "qb_id = qb_id[qb_id['player_position'] == 'QB']\n",
    "qb_id = qb_id[qb_id['player_name'] != 'Taysom Hill']"
   ]
  },
  {
   "cell_type": "code",
   "execution_count": 8,
   "id": "2ba761fa",
   "metadata": {},
   "outputs": [],
   "source": [
    "df_qb = df[df['player_position'] == 'QB']\n",
    "df_qb = df_qb.loc[df_qb.groupby('play_id_n')['frame_id'].idxmax()]\n",
    "df_qb['max_throw'] = np.sqrt(np.square(df_qb['ball_land_x'] - df_qb['x']) + np.square(df_qb['ball_land_y'] - df_qb['y'] ))\n",
    "df_qb = df_qb[df_qb['player_to_predict'] != True]\n"
   ]
  },
  {
   "cell_type": "code",
   "execution_count": 9,
   "id": "ac938476",
   "metadata": {},
   "outputs": [],
   "source": [
    "df_qb_stats = df_qb.groupby('nfl_id')['max_throw'].quantile([0.2, 0.5, 0.95]).unstack()\n",
    "df_qb_stats.columns = ['max_throw_20', 'max_throw_50', 'max_throw_90']\n",
    "df_qb_stats = df_qb_stats.reset_index()"
   ]
  },
  {
   "cell_type": "code",
   "execution_count": 10,
   "id": "26280ae2",
   "metadata": {},
   "outputs": [],
   "source": [
    "qb_id = qb_id.merge(df_qb_stats, on=['nfl_id'], how='left').drop_duplicates().drop(columns=['player_name', 'player_position', 'nfl_id'])\n",
    "context = context.merge(qb_id, on=['play_id_n'], how='left')\n",
    "df_train = df_combined[['game_id', 'x', 'y', 'play_id_n', 'nfl_id']]\n",
    "df_train = df_train.merge(context, on='play_id_n', how='left')"
   ]
  },
  {
   "cell_type": "code",
   "execution_count": 11,
   "id": "deadbf32",
   "metadata": {},
   "outputs": [
    {
     "data": {
      "application/vnd.microsoft.datawrangler.viewer.v0+json": {
       "columns": [
        {
         "name": "index",
         "rawType": "int64",
         "type": "integer"
        },
        {
         "name": "game_id",
         "rawType": "float64",
         "type": "float"
        },
        {
         "name": "play_id_n",
         "rawType": "float64",
         "type": "float"
        },
        {
         "name": "nfl_id",
         "rawType": "int64",
         "type": "integer"
        },
        {
         "name": "play_direction",
         "rawType": "object",
         "type": "string"
        },
        {
         "name": "absolute_yardline_number",
         "rawType": "int64",
         "type": "integer"
        },
        {
         "name": "ball_land_x",
         "rawType": "float64",
         "type": "float"
        },
        {
         "name": "ball_land_y",
         "rawType": "float64",
         "type": "float"
        },
        {
         "name": "num_frames_output",
         "rawType": "int64",
         "type": "integer"
        },
        {
         "name": "max_throw_20",
         "rawType": "float64",
         "type": "float"
        },
        {
         "name": "max_throw_50",
         "rawType": "float64",
         "type": "float"
        },
        {
         "name": "max_throw_90",
         "rawType": "float64",
         "type": "float"
        },
        {
         "name": "change_x",
         "rawType": "float64",
         "type": "float"
        },
        {
         "name": "change_y",
         "rawType": "float64",
         "type": "float"
        }
       ],
       "ref": "d45a919c-112a-458e-8c20-5999b1fccd78",
       "rows": [
        [
         "0",
         "2023102207.0",
         "293.0",
         "38577",
         "right",
         "50",
         "54.1800003051758",
         "29.9400005340576",
         "7",
         "11.620348842262969",
         "13.995939911776075",
         "28.45161446574592",
         "1.9100000000000037",
         "2.4299999999999997"
        ],
        [
         "28",
         "2023102207.0",
         "293.0",
         "39983",
         "right",
         "50",
         "54.1800003051758",
         "29.9400005340576",
         "7",
         "11.620348842262969",
         "13.995939911776075",
         "28.45161446574592",
         "6.810000000000002",
         "2.990000000000002"
        ],
        [
         "49",
         "2023102209.0",
         "585.0",
         "40024",
         "left",
         "85",
         "85.629997253418",
         "47.1500015258789",
         "10",
         "13.907773601137862",
         "21.585701741851103",
         "37.04685092797571",
         "8.170000000000002",
         "0.4100000000000037"
        ],
        [
         "75",
         "2023102205.0",
         "72.0",
         "41233",
         "right",
         "35",
         "30.0699996948242",
         "21.2999992370605",
         "6",
         "13.018115064179577",
         "15.201107195268229",
         "38.83800325321157",
         "7.270000000000003",
         "5.990000000000002"
        ],
        [
         "98",
         "2023102200.0",
         "96.0",
         "41238",
         "right",
         "35",
         "32.7299995422363",
         "10.9799995422363",
         "6",
         "11.200986359330269",
         "19.738684728099294",
         "30.81584987828677",
         "12.240000000000002",
         "2.3500000000000014"
        ]
       ],
       "shape": {
        "columns": 13,
        "rows": 5
       }
      },
      "text/html": [
       "<div>\n",
       "<style scoped>\n",
       "    .dataframe tbody tr th:only-of-type {\n",
       "        vertical-align: middle;\n",
       "    }\n",
       "\n",
       "    .dataframe tbody tr th {\n",
       "        vertical-align: top;\n",
       "    }\n",
       "\n",
       "    .dataframe thead th {\n",
       "        text-align: right;\n",
       "    }\n",
       "</style>\n",
       "<table border=\"1\" class=\"dataframe\">\n",
       "  <thead>\n",
       "    <tr style=\"text-align: right;\">\n",
       "      <th></th>\n",
       "      <th>game_id</th>\n",
       "      <th>play_id_n</th>\n",
       "      <th>nfl_id</th>\n",
       "      <th>play_direction</th>\n",
       "      <th>absolute_yardline_number</th>\n",
       "      <th>ball_land_x</th>\n",
       "      <th>ball_land_y</th>\n",
       "      <th>num_frames_output</th>\n",
       "      <th>max_throw_20</th>\n",
       "      <th>max_throw_50</th>\n",
       "      <th>max_throw_90</th>\n",
       "      <th>change_x</th>\n",
       "      <th>change_y</th>\n",
       "    </tr>\n",
       "  </thead>\n",
       "  <tbody>\n",
       "    <tr>\n",
       "      <th>0</th>\n",
       "      <td>2.023102e+09</td>\n",
       "      <td>293.0</td>\n",
       "      <td>38577</td>\n",
       "      <td>right</td>\n",
       "      <td>50</td>\n",
       "      <td>54.180000</td>\n",
       "      <td>29.940001</td>\n",
       "      <td>7</td>\n",
       "      <td>11.620349</td>\n",
       "      <td>13.995940</td>\n",
       "      <td>28.451614</td>\n",
       "      <td>1.91</td>\n",
       "      <td>2.43</td>\n",
       "    </tr>\n",
       "    <tr>\n",
       "      <th>28</th>\n",
       "      <td>2.023102e+09</td>\n",
       "      <td>293.0</td>\n",
       "      <td>39983</td>\n",
       "      <td>right</td>\n",
       "      <td>50</td>\n",
       "      <td>54.180000</td>\n",
       "      <td>29.940001</td>\n",
       "      <td>7</td>\n",
       "      <td>11.620349</td>\n",
       "      <td>13.995940</td>\n",
       "      <td>28.451614</td>\n",
       "      <td>6.81</td>\n",
       "      <td>2.99</td>\n",
       "    </tr>\n",
       "    <tr>\n",
       "      <th>49</th>\n",
       "      <td>2.023102e+09</td>\n",
       "      <td>585.0</td>\n",
       "      <td>40024</td>\n",
       "      <td>left</td>\n",
       "      <td>85</td>\n",
       "      <td>85.629997</td>\n",
       "      <td>47.150002</td>\n",
       "      <td>10</td>\n",
       "      <td>13.907774</td>\n",
       "      <td>21.585702</td>\n",
       "      <td>37.046851</td>\n",
       "      <td>8.17</td>\n",
       "      <td>0.41</td>\n",
       "    </tr>\n",
       "    <tr>\n",
       "      <th>75</th>\n",
       "      <td>2.023102e+09</td>\n",
       "      <td>72.0</td>\n",
       "      <td>41233</td>\n",
       "      <td>right</td>\n",
       "      <td>35</td>\n",
       "      <td>30.070000</td>\n",
       "      <td>21.299999</td>\n",
       "      <td>6</td>\n",
       "      <td>13.018115</td>\n",
       "      <td>15.201107</td>\n",
       "      <td>38.838003</td>\n",
       "      <td>7.27</td>\n",
       "      <td>5.99</td>\n",
       "    </tr>\n",
       "    <tr>\n",
       "      <th>98</th>\n",
       "      <td>2.023102e+09</td>\n",
       "      <td>96.0</td>\n",
       "      <td>41238</td>\n",
       "      <td>right</td>\n",
       "      <td>35</td>\n",
       "      <td>32.730000</td>\n",
       "      <td>10.980000</td>\n",
       "      <td>6</td>\n",
       "      <td>11.200986</td>\n",
       "      <td>19.738685</td>\n",
       "      <td>30.815850</td>\n",
       "      <td>12.24</td>\n",
       "      <td>2.35</td>\n",
       "    </tr>\n",
       "  </tbody>\n",
       "</table>\n",
       "</div>"
      ],
      "text/plain": [
       "         game_id  play_id_n  nfl_id play_direction  absolute_yardline_number  \\\n",
       "0   2.023102e+09      293.0   38577          right                        50   \n",
       "28  2.023102e+09      293.0   39983          right                        50   \n",
       "49  2.023102e+09      585.0   40024           left                        85   \n",
       "75  2.023102e+09       72.0   41233          right                        35   \n",
       "98  2.023102e+09       96.0   41238          right                        35   \n",
       "\n",
       "    ball_land_x  ball_land_y  num_frames_output  max_throw_20  max_throw_50  \\\n",
       "0     54.180000    29.940001                  7     11.620349     13.995940   \n",
       "28    54.180000    29.940001                  7     11.620349     13.995940   \n",
       "49    85.629997    47.150002                 10     13.907774     21.585702   \n",
       "75    30.070000    21.299999                  6     13.018115     15.201107   \n",
       "98    32.730000    10.980000                  6     11.200986     19.738685   \n",
       "\n",
       "    max_throw_90  change_x  change_y  \n",
       "0      28.451614      1.91      2.43  \n",
       "28     28.451614      6.81      2.99  \n",
       "49     37.046851      8.17      0.41  \n",
       "75     38.838003      7.27      5.99  \n",
       "98     30.815850     12.24      2.35  "
      ]
     },
     "execution_count": 11,
     "metadata": {},
     "output_type": "execute_result"
    }
   ],
   "source": [
    "df_train['change_x'] = df_train.groupby(['nfl_id', 'play_id_n'])['x'].transform(lambda x: x.max() - x.min())\n",
    "df_train['change_y'] = df_train.groupby(['nfl_id', 'play_id_n'])['y'].transform(lambda x: x.max() - x.min())\n",
    "df_train = df_train.dropna().drop(columns=['x', 'y']).drop_duplicates()\n",
    "df_train.head()"
   ]
  },
  {
   "cell_type": "markdown",
   "id": "7a255ead",
   "metadata": {},
   "source": [
    "### Embedding Model"
   ]
  },
  {
   "cell_type": "code",
   "execution_count": null,
   "id": "0f65acf4",
   "metadata": {},
   "outputs": [],
   "source": [
    "class PlayerEmbeddingModel(nn.Module):\n",
    "    def __init__(self, num_unique_players, num_prior_features, num_categories, embedding_dim=16, category_embedding_dim=8):\n",
    "\n",
    "        super(PlayerEmbeddingModel, self).__init__()\n",
    "        \n",
    "        self.player_embedding = nn.Embedding(\n",
    "            num_embeddings=num_unique_players,\n",
    "            embedding_dim=embedding_dim\n",
    "        )\n",
    "\n",
    "        self.category_embedding = nn.Embedding(\n",
    "            num_embeddings=num_categories,\n",
    "            embedding_dim=category_embedding_dim\n",
    "        )\n",
    "\n",
    "        concatenated_feature_size = embedding_dim + category_embedding_dim + num_prior_features\n",
    "        \n",
    "        # standard sequential model 64-32-2 \n",
    "        self.prediction_head = nn.Sequential(\n",
    "            nn.Linear(concatenated_feature_size, 64),\n",
    "            nn.ReLU(),\n",
    "            nn.Linear(64, 32),\n",
    "            nn.ReLU(),\n",
    "            nn.Linear(32, 2) # two heads to predict change in x and change in y\n",
    "        )\n",
    "\n",
    "    def forward(self, player_id_input, category_input, prior_stats_input):\n",
    "        embedded_player = self.player_embedding(player_id_input)\n",
    "        embedded_category = self.category_embedding(category_input)\n",
    "\n",
    "        if embedded_player.dim() == 3: # for batch processing\n",
    "            embedded_player = embedded_player.squeeze(1)\n",
    "        \n",
    "        if embedded_category.dim() == 3:\n",
    "            embedded_category = embedded_category.squeeze(1)\n",
    "\n",
    "        concatenated_features = torch.cat([embedded_player, embedded_category, prior_stats_input], dim=1)\n",
    "\n",
    "        output = self.prediction_head(concatenated_features)\n",
    "        return output\n",
    "\n",
    "def extract_embeddings(model):\n",
    "    return model.player_embedding.weight.detach().cpu()"
   ]
  },
  {
   "cell_type": "code",
   "execution_count": null,
   "id": "e3145d9a",
   "metadata": {},
   "outputs": [],
   "source": [
    "# make play direction int values\n",
    "dir_mapping = {pos: idx for idx, pos in enumerate(df_train['play_direction'].unique())}\n",
    "df_train['direction_encoded'] = df_train['play_direction'].map(dir_mapping)\n",
    "\n",
    "# player_ids cons.\n",
    "id_mapping = {player: idx for idx, player in enumerate(df_train['play_id_n'].unique())}\n",
    "df_train['play_id_encoded'] = df_train['play_id_n'].map(id_mapping)\n",
    "\n",
    "# continious cols\n",
    "cols_cont = ['absolute_yardline_number', 'ball_land_x', 'ball_land_y', 'num_frames_output', 'max_throw_20',\n",
    "             'max_throw_50', 'max_throw_90']\n",
    "X_cont = df_train[cols_cont].values\n",
    "\n",
    "# target\n",
    "y = df_train[['change_x', 'change_y']].values"
   ]
  },
  {
   "cell_type": "code",
   "execution_count": 15,
   "id": "6231b067",
   "metadata": {},
   "outputs": [],
   "source": [
    "# tensors\n",
    "player_ids = torch.LongTensor(df_train['play_id_encoded'].values)\n",
    "pos_cat = torch.LongTensor(df_train['direction_encoded'].values)\n",
    "X_cont = torch.FloatTensor(X_cont)\n",
    "y = torch.FloatTensor(y)"
   ]
  },
  {
   "cell_type": "code",
   "execution_count": null,
   "id": "d8d4abb2",
   "metadata": {},
   "outputs": [],
   "source": [
    "# data loader\n",
    "dataset = TensorDataset(player_ids, pos_cat, X_cont, y)\n",
    "train_load = DataLoader(dataset, batch_size=127, shuffle=True)\n",
    "\n",
    "# counts\n",
    "n_players = df_train['play_id_n'].nunique()\n",
    "num_cat = 2\n",
    "num__feat = len(cols_cont)\n",
    "\n",
    "model = PlayerEmbeddingModel(\n",
    "    num_unique_players=n_players,\n",
    "    num_prior_features=num__feat,\n",
    "    num_categories=num_cat,\n",
    "    embedding_dim=4,\n",
    "    category_embedding_dim=1\n",
    ")"
   ]
  },
  {
   "cell_type": "code",
   "execution_count": null,
   "id": "ae3d324d",
   "metadata": {},
   "outputs": [],
   "source": [
    "criterion = nn.MSELoss()\n",
    "optimizer = torch.optim.AdamW(model.parameters(), lr=0.001)\n",
    "\n",
    "best_loss = float('inf')\n",
    "patience = 10\n",
    "patience_counter = 0\n",
    "\n",
    "# train loop with early stopping\n",
    "for epoch in range(1000):\n",
    "    epoch_loss = 0\n",
    "    num_batches = 0\n",
    "    \n",
    "    for player_batch, category_batch, features_batch, targets_batch in train_load:\n",
    "        optimizer.zero_grad() # zero gradients so diff grad across batches dont gte summed\n",
    "        \n",
    "        predictions = model(player_batch, category_batch, features_batch) # forward pass\n",
    "        loss = criterion(predictions, targets_batch) # mse\n",
    "        \n",
    "        loss.backward() # backprop\n",
    "        optimizer.step() # update model weights, update opti\n",
    "        \n",
    "        epoch_loss += loss.item()\n",
    "        num_batches += 1\n",
    "    \n",
    "    # early stopping logic, prevent overfitting\n",
    "    avg_loss = epoch_loss / num_batches\n",
    "    \n",
    "    if avg_loss < best_loss:\n",
    "        best_loss = avg_loss\n",
    "        patience_counter = 0\n",
    "    else:\n",
    "        patience_counter += 1\n",
    "    \n",
    "    if patience_counter >= patience:\n",
    "        break\n",
    "    \n",
    "    print(f'epoch {epoch+1}, loss: {avg_loss}')"
   ]
  },
  {
   "cell_type": "code",
   "execution_count": null,
   "id": "00c40fd0",
   "metadata": {},
   "outputs": [],
   "source": [
    "player_embeddings = extract_embeddings(model)\n",
    "display(player_embeddings)"
   ]
  },
  {
   "cell_type": "code",
   "execution_count": null,
   "id": "7cf4cdfb",
   "metadata": {},
   "outputs": [],
   "source": [
    "tsne = TSNE(n_components=2, random_state=42)\n",
    "player_embeddings_2d = tsne.fit_transform(player_embeddings.numpy())\n",
    "\n",
    "embeddings_df = pd.DataFrame(player_embeddings_2d, columns=['x', 'y'])\n",
    "embeddings_df['nfl_id'] = df_train['nfl_id'].unique() \n",
    "embeddings_df = embeddings_df.merge(df_bio[['nfl_id', 'player_name']], on='nfl_id', how='left')\n",
    "\n",
    "plt.figure(figsize=(10, 8))\n",
    "plt.scatter(embeddings_df['x'], embeddings_df['y'], alpha=0.5)\n",
    "plt.title('Player Embeddings (t-SNE)')\n",
    "plt.xlabel('t-SNE Component 1')\n",
    "plt.ylabel('t-SNE Component 2')\n",
    "\n",
    "num_labels = 50\n",
    "random_indices = random.sample(range(len(embeddings_df)), num_labels)\n",
    "\n",
    "for i in random_indices:\n",
    "    plt.annotate(embeddings_df['player_name'].iloc[i], (embeddings_df['x'].iloc[i], embeddings_df['y'].iloc[i]))\n",
    "\n",
    "plt.show()"
   ]
  }
 ],
 "metadata": {
  "kernelspec": {
   "display_name": "nflLab",
   "language": "python",
   "name": "python3"
  },
  "language_info": {
   "codemirror_mode": {
    "name": "ipython",
    "version": 3
   },
   "file_extension": ".py",
   "mimetype": "text/x-python",
   "name": "python",
   "nbconvert_exporter": "python",
   "pygments_lexer": "ipython3",
   "version": "3.9.23"
  }
 },
 "nbformat": 4,
 "nbformat_minor": 5
}
