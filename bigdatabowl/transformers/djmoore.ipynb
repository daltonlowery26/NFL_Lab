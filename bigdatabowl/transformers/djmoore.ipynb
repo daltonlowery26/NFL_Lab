{
 "cells": [
  {
   "cell_type": "markdown",
   "id": "7c901a66",
   "metadata": {},
   "source": [
    "### Predict DJ Moore Movement"
   ]
  },
  {
   "cell_type": "code",
   "execution_count": null,
   "id": "82524e6b",
   "metadata": {
    "vscode": {
     "languageId": "plaintext"
    }
   },
   "outputs": [],
   "source": [
    "CNN to create a spatial repersentation of the context data\n",
    "\n",
    "Inject Context Embedding & Player Embeddings, early fusion for the player context \n",
    "and before the fully connected layer for the gloabl context\n",
    "\n",
    "Once we have a 1d tensor rep then we can feed that to a transformer"
   ]
  }
 ],
 "metadata": {
  "language_info": {
   "name": "python"
  }
 },
 "nbformat": 4,
 "nbformat_minor": 5
}
